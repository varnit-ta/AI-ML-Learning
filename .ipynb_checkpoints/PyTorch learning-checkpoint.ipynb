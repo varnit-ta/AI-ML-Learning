{
 "cells": [
  {
   "cell_type": "code",
   "execution_count": 8,
   "id": "2668b116-9923-4e3c-a564-bc68ddf365ca",
   "metadata": {},
   "outputs": [],
   "source": [
    "import torch"
   ]
  },
  {
   "cell_type": "code",
   "execution_count": 11,
   "id": "4ee16d28-0226-4c59-be91-2c099c9517e5",
   "metadata": {},
   "outputs": [
    {
     "data": {
      "text/plain": [
       "True"
      ]
     },
     "execution_count": 11,
     "metadata": {},
     "output_type": "execute_result"
    }
   ],
   "source": [
    "#To check if CUDA is available in system or not\n",
    "torch.cuda.is_available()"
   ]
  },
  {
   "cell_type": "markdown",
   "id": "481deed7",
   "metadata": {},
   "source": [
    "## Torch Tensors"
   ]
  },
  {
   "cell_type": "code",
   "execution_count": 13,
   "id": "6ff68855",
   "metadata": {},
   "outputs": [
    {
     "name": "stdout",
     "output_type": "stream",
     "text": [
      "tensor([2, 2, 1])\n"
     ]
    }
   ],
   "source": [
    "#This is a 1-D tensor\n",
    "a = torch.tensor([2, 2, 1])\n",
    "print(a)"
   ]
  },
  {
   "cell_type": "code",
   "execution_count": 31,
   "id": "cb63eaac",
   "metadata": {},
   "outputs": [
    {
     "name": "stdout",
     "output_type": "stream",
     "text": [
      "tensor([[2, 1, 4],\n",
      "        [3, 5, 4],\n",
      "        [1, 2, 0],\n",
      "        [4, 3, 2]])\n"
     ]
    }
   ],
   "source": [
    "#This is a 2-D tensor\n",
    "b = torch.tensor([[2,1,4],[3,5,4],[1,2,0],[4,3,2]])\n",
    "print(b)"
   ]
  },
  {
   "cell_type": "code",
   "execution_count": 15,
   "id": "1ce28000",
   "metadata": {},
   "outputs": [
    {
     "name": "stdout",
     "output_type": "stream",
     "text": [
      "torch.Size([3])\n",
      "torch.Size([3, 3])\n",
      "torch.Size([3])\n",
      "torch.Size([3, 3])\n"
     ]
    }
   ],
   "source": [
    "#The size of the tensor\n",
    "print(a.size())\n",
    "print(b.size())\n",
    "print(a.shape)\n",
    "print(b.shape)"
   ]
  },
  {
   "cell_type": "code",
   "execution_count": 18,
   "id": "f96acad8",
   "metadata": {},
   "outputs": [
    {
     "name": "stdout",
     "output_type": "stream",
     "text": [
      "tensor([[2., 1., 4.],\n",
      "        [3., 5., 4.],\n",
      "        [6., 7., 8.]])\n",
      "torch.float32\n"
     ]
    }
   ],
   "source": [
    "#Define a float tensor\n",
    "c = torch.FloatTensor([[2, 1, 4], [3, 5, 4], [6, 7, 8]])\n",
    "print(c)\n",
    "print(c.dtype)\n",
    "\n",
    "#c = torch.tensor([[2, 1, 4], [3, 5, 4], [6, 7, 8]], dtype=torch.float)"
   ]
  },
  {
   "cell_type": "code",
   "execution_count": 19,
   "id": "6175a518",
   "metadata": {},
   "outputs": [
    {
     "name": "stdout",
     "output_type": "stream",
     "text": [
      "tensor([[2., 1., 4.],\n",
      "        [3., 5., 4.],\n",
      "        [6., 7., 8.]], dtype=torch.float64)\n",
      "torch.float64\n"
     ]
    }
   ],
   "source": [
    "#Define double tensor\n",
    "d = torch.DoubleTensor([[2, 1, 4], [3, 5, 4], [6, 7, 8]])\n",
    "print(d)\n",
    "print(d.dtype)\n",
    "# d= torch.tensor([[2, 1, 4], [3, 5, 4], [6, 7, 8]], dtype=torch.double)"
   ]
  },
  {
   "cell_type": "code",
   "execution_count": 22,
   "id": "a2b8e12c",
   "metadata": {},
   "outputs": [
    {
     "name": "stdout",
     "output_type": "stream",
     "text": [
      "Mean :  tensor(4.4444)\n",
      "Std. Dev :  tensor(2.2973)\n"
     ]
    }
   ],
   "source": [
    "#Finding mean and standard deviation of a tensor\n",
    "print(\"Mean : \", c.mean())\n",
    "print(\"Std. Dev : \", c.std())"
   ]
  },
  {
   "cell_type": "code",
   "execution_count": 33,
   "id": "ec04d29d",
   "metadata": {},
   "outputs": [
    {
     "name": "stdout",
     "output_type": "stream",
     "text": [
      "tensor([[2],\n",
      "        [1],\n",
      "        [4],\n",
      "        [3],\n",
      "        [5],\n",
      "        [4],\n",
      "        [1],\n",
      "        [2],\n",
      "        [0],\n",
      "        [4],\n",
      "        [3],\n",
      "        [2]])\n",
      "tensor([2, 1, 4, 3, 5, 4, 1, 2, 0, 4, 3, 2])\n",
      "tensor([[2, 1, 4, 3],\n",
      "        [5, 4, 1, 2],\n",
      "        [0, 4, 3, 2]])\n",
      "tensor([[2, 1, 4, 3],\n",
      "        [5, 4, 1, 2],\n",
      "        [0, 4, 3, 2]])\n",
      "tensor([[2],\n",
      "        [1],\n",
      "        [4],\n",
      "        [3],\n",
      "        [5],\n",
      "        [4],\n",
      "        [1],\n",
      "        [2],\n",
      "        [0],\n",
      "        [4],\n",
      "        [3],\n",
      "        [2]])\n",
      "torch.Size([12, 1])\n"
     ]
    }
   ],
   "source": [
    "#Reshaping a tensor\n",
    "#NOTE : The number of elements in the reshaped tensor should be same as the original tensor\n",
    "#NOTE : If one of the dimension is -1, it is automatically calculated\n",
    "print(b.view(-1,1))\n",
    "print(b.view(12))\n",
    "print(b.view(-1,4))\n",
    "print(b.view(3,4))\n",
    "\n",
    "#Assign b a new shape\n",
    "b = b.view(-1, 1)\n",
    "print(b)\n",
    "print(b.shape)"
   ]
  },
  {
   "cell_type": "code",
   "execution_count": 36,
   "id": "bd5d6e30",
   "metadata": {},
   "outputs": [
    {
     "name": "stdout",
     "output_type": "stream",
     "text": [
      "tensor([[[ 0.3543,  0.2224, -0.7417, -0.5514],\n",
      "         [ 3.1411, -1.2851,  0.2900, -0.2520],\n",
      "         [ 1.1207,  1.4128, -0.5830,  0.8635]],\n",
      "\n",
      "        [[ 0.2649,  1.1680,  0.0342, -0.6158],\n",
      "         [-0.3465, -0.4998,  0.5359, -0.5842],\n",
      "         [ 0.0851,  0.5802,  2.1861, -0.7234]]]) \n",
      "\n",
      "Reshaped 3-D tensor : \n",
      "tensor([[ 0.3543,  0.2224, -0.7417, -0.5514,  3.1411, -1.2851,  0.2900, -0.2520,\n",
      "          1.1207,  1.4128, -0.5830,  0.8635],\n",
      "        [ 0.2649,  1.1680,  0.0342, -0.6158, -0.3465, -0.4998,  0.5359, -0.5842,\n",
      "          0.0851,  0.5802,  2.1861, -0.7234]])\n",
      "tensor([[ 0.3543,  0.2224, -0.7417, -0.5514,  3.1411, -1.2851,  0.2900, -0.2520,\n",
      "          1.1207,  1.4128, -0.5830,  0.8635],\n",
      "        [ 0.2649,  1.1680,  0.0342, -0.6158, -0.3465, -0.4998,  0.5359, -0.5842,\n",
      "          0.0851,  0.5802,  2.1861, -0.7234]])\n"
     ]
    }
   ],
   "source": [
    "#Create a 3-D tensor with 2 channels, 3 rows and 4 columns (channels, rows, columns)\n",
    "three_dim = torch.randn(2, 3, 4)\n",
    "print(three_dim, \"\\n\")\n",
    "\n",
    "#Reshape the 3-D tensor\n",
    "print(\"Reshaped 3-D tensor : \")\n",
    "print(three_dim.view(2, 12))\n",
    "print(three_dim.view(2, -1))"
   ]
  },
  {
   "cell_type": "code",
   "execution_count": 37,
   "id": "2b67b981",
   "metadata": {},
   "outputs": [
    {
     "name": "stdout",
     "output_type": "stream",
     "text": [
      "tensor([[0.8437, 0.0180, 0.3038, 0.7799],\n",
      "        [0.7890, 0.7327, 0.3599, 0.4460],\n",
      "        [0.6431, 0.9768, 0.9002, 0.7197],\n",
      "        [0.8038, 0.5746, 0.8742, 0.8980]])\n"
     ]
    }
   ],
   "source": [
    "#Create a matrix with random numbers between 0 and 1\n",
    "r = torch.rand(4, 4)\n",
    "print(r)"
   ]
  },
  {
   "cell_type": "code",
   "execution_count": 38,
   "id": "6aae2b02",
   "metadata": {},
   "outputs": [
    {
     "name": "stdout",
     "output_type": "stream",
     "text": [
      "tensor([[ 1.1636,  0.7425,  1.2477, -0.3779],\n",
      "        [ 1.1367,  1.8006, -0.4546, -0.5193],\n",
      "        [ 1.2508,  0.1612, -1.3207,  1.4429],\n",
      "        [-1.3237,  1.5145, -0.1813, -0.1203]])\n",
      "torch.float32\n"
     ]
    }
   ],
   "source": [
    "#Create a matrix with random numbers taken from a normal distribution with mean 0 and variance 1\n",
    "n = torch.randn(4, 4)\n",
    "print(n)\n",
    "print(n.dtype)"
   ]
  },
  {
   "cell_type": "code",
   "execution_count": 39,
   "id": "c8e38e58",
   "metadata": {},
   "outputs": [
    {
     "name": "stdout",
     "output_type": "stream",
     "text": [
      "tensor([6, 9, 9, 9, 9])\n",
      "torch.int64\n"
     ]
    }
   ],
   "source": [
    "#Create an array of 5 random integers from values between 6 and 9 (exlusive of 10)\n",
    "in_array = torch.randint(6, 10, (5,))\n",
    "print(in_array)\n",
    "print(in_array.dtype)"
   ]
  },
  {
   "cell_type": "code",
   "execution_count": null,
   "id": "c479b65b",
   "metadata": {},
   "outputs": [],
   "source": []
  }
 ],
 "metadata": {
  "kernelspec": {
   "display_name": "Python 3 (ipykernel)",
   "language": "python",
   "name": "python3"
  },
  "language_info": {
   "codemirror_mode": {
    "name": "ipython",
    "version": 3
   },
   "file_extension": ".py",
   "mimetype": "text/x-python",
   "name": "python",
   "nbconvert_exporter": "python",
   "pygments_lexer": "ipython3",
   "version": "3.9.0"
  }
 },
 "nbformat": 4,
 "nbformat_minor": 5
}
