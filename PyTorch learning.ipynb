{
 "cells": [
  {
   "cell_type": "code",
   "execution_count": 8,
   "id": "2668b116-9923-4e3c-a564-bc68ddf365ca",
   "metadata": {},
   "outputs": [],
   "source": [
    "import torch"
   ]
  },
  {
   "cell_type": "code",
   "execution_count": 11,
   "id": "4ee16d28-0226-4c59-be91-2c099c9517e5",
   "metadata": {},
   "outputs": [
    {
     "data": {
      "text/plain": [
       "True"
      ]
     },
     "execution_count": 11,
     "metadata": {},
     "output_type": "execute_result"
    }
   ],
   "source": [
    "#To check if CUDA is available in system or not\n",
    "torch.cuda.is_available()"
   ]
  },
  {
   "cell_type": "markdown",
   "id": "481deed7",
   "metadata": {},
   "source": [
    "## Torch Tensors"
   ]
  },
  {
   "cell_type": "code",
   "execution_count": 13,
   "id": "6ff68855",
   "metadata": {},
   "outputs": [
    {
     "name": "stdout",
     "output_type": "stream",
     "text": [
      "tensor([2, 2, 1])\n"
     ]
    }
   ],
   "source": [
    "#This is a 1-D tensor\n",
    "a = torch.tensor([2, 2, 1])\n",
    "print(a)"
   ]
  },
  {
   "cell_type": "code",
   "execution_count": 31,
   "id": "cb63eaac",
   "metadata": {},
   "outputs": [
    {
     "name": "stdout",
     "output_type": "stream",
     "text": [
      "tensor([[2, 1, 4],\n",
      "        [3, 5, 4],\n",
      "        [1, 2, 0],\n",
      "        [4, 3, 2]])\n"
     ]
    }
   ],
   "source": [
    "#This is a 2-D tensor\n",
    "b = torch.tensor([[2,1,4],[3,5,4],[1,2,0],[4,3,2]])\n",
    "print(b)"
   ]
  },
  {
   "cell_type": "code",
   "execution_count": 15,
   "id": "1ce28000",
   "metadata": {},
   "outputs": [
    {
     "name": "stdout",
     "output_type": "stream",
     "text": [
      "torch.Size([3])\n",
      "torch.Size([3, 3])\n",
      "torch.Size([3])\n",
      "torch.Size([3, 3])\n"
     ]
    }
   ],
   "source": [
    "#The size of the tensor\n",
    "print(a.size())\n",
    "print(b.size())\n",
    "print(a.shape)\n",
    "print(b.shape)"
   ]
  },
  {
   "cell_type": "code",
   "execution_count": 18,
   "id": "f96acad8",
   "metadata": {},
   "outputs": [
    {
     "name": "stdout",
     "output_type": "stream",
     "text": [
      "tensor([[2., 1., 4.],\n",
      "        [3., 5., 4.],\n",
      "        [6., 7., 8.]])\n",
      "torch.float32\n"
     ]
    }
   ],
   "source": [
    "#Define a float tensor\n",
    "c = torch.FloatTensor([[2, 1, 4], [3, 5, 4], [6, 7, 8]])\n",
    "print(c)\n",
    "print(c.dtype)\n",
    "\n",
    "#c = torch.tensor([[2, 1, 4], [3, 5, 4], [6, 7, 8]], dtype=torch.float)"
   ]
  },
  {
   "cell_type": "code",
   "execution_count": 19,
   "id": "6175a518",
   "metadata": {},
   "outputs": [
    {
     "name": "stdout",
     "output_type": "stream",
     "text": [
      "tensor([[2., 1., 4.],\n",
      "        [3., 5., 4.],\n",
      "        [6., 7., 8.]], dtype=torch.float64)\n",
      "torch.float64\n"
     ]
    }
   ],
   "source": [
    "#Define double tensor\n",
    "d = torch.DoubleTensor([[2, 1, 4], [3, 5, 4], [6, 7, 8]])\n",
    "print(d)\n",
    "print(d.dtype)\n",
    "# d= torch.tensor([[2, 1, 4], [3, 5, 4], [6, 7, 8]], dtype=torch.double)"
   ]
  },
  {
   "cell_type": "code",
   "execution_count": 22,
   "id": "a2b8e12c",
   "metadata": {},
   "outputs": [
    {
     "name": "stdout",
     "output_type": "stream",
     "text": [
      "Mean :  tensor(4.4444)\n",
      "Std. Dev :  tensor(2.2973)\n"
     ]
    }
   ],
   "source": [
    "#Finding mean and standard deviation of a tensor\n",
    "print(\"Mean : \", c.mean())\n",
    "print(\"Std. Dev : \", c.std())"
   ]
  },
  {
   "cell_type": "code",
   "execution_count": 33,
   "id": "ec04d29d",
   "metadata": {},
   "outputs": [
    {
     "name": "stdout",
     "output_type": "stream",
     "text": [
      "tensor([[2],\n",
      "        [1],\n",
      "        [4],\n",
      "        [3],\n",
      "        [5],\n",
      "        [4],\n",
      "        [1],\n",
      "        [2],\n",
      "        [0],\n",
      "        [4],\n",
      "        [3],\n",
      "        [2]])\n",
      "tensor([2, 1, 4, 3, 5, 4, 1, 2, 0, 4, 3, 2])\n",
      "tensor([[2, 1, 4, 3],\n",
      "        [5, 4, 1, 2],\n",
      "        [0, 4, 3, 2]])\n",
      "tensor([[2, 1, 4, 3],\n",
      "        [5, 4, 1, 2],\n",
      "        [0, 4, 3, 2]])\n",
      "tensor([[2],\n",
      "        [1],\n",
      "        [4],\n",
      "        [3],\n",
      "        [5],\n",
      "        [4],\n",
      "        [1],\n",
      "        [2],\n",
      "        [0],\n",
      "        [4],\n",
      "        [3],\n",
      "        [2]])\n",
      "torch.Size([12, 1])\n"
     ]
    }
   ],
   "source": [
    "#Reshaping a tensor\n",
    "#NOTE : The number of elements in the reshaped tensor should be same as the original tensor\n",
    "#NOTE : If one of the dimension is -1, it is automatically calculated\n",
    "print(b.view(-1,1))\n",
    "print(b.view(12))\n",
    "print(b.view(-1,4))\n",
    "print(b.view(3,4))\n",
    "\n",
    "#Assign b a new shape\n",
    "b = b.view(-1, 1)\n",
    "print(b)\n",
    "print(b.shape)"
   ]
  }
 ],
 "metadata": {
  "kernelspec": {
   "display_name": "Python 3 (ipykernel)",
   "language": "python",
   "name": "python3"
  },
  "language_info": {
   "codemirror_mode": {
    "name": "ipython",
    "version": 3
   },
   "file_extension": ".py",
   "mimetype": "text/x-python",
   "name": "python",
   "nbconvert_exporter": "python",
   "pygments_lexer": "ipython3",
   "version": "3.9.0"
  }
 },
 "nbformat": 4,
 "nbformat_minor": 5
}
