{
 "cells": [
  {
   "cell_type": "code",
   "execution_count": 1,
   "id": "2668b116-9923-4e3c-a564-bc68ddf365ca",
   "metadata": {},
   "outputs": [],
   "source": [
    "import torch"
   ]
  },
  {
   "cell_type": "code",
   "execution_count": 2,
   "id": "4ee16d28-0226-4c59-be91-2c099c9517e5",
   "metadata": {},
   "outputs": [
    {
     "data": {
      "text/plain": [
       "False"
      ]
     },
     "execution_count": 2,
     "metadata": {},
     "output_type": "execute_result"
    }
   ],
   "source": [
    "#To check if CUDA is available in system or not\n",
    "torch.cuda.is_available()"
   ]
  },
  {
   "cell_type": "markdown",
   "id": "481deed7",
   "metadata": {},
   "source": [
    "## Torch Tensors"
   ]
  },
  {
   "cell_type": "code",
   "execution_count": 3,
   "id": "6ff68855",
   "metadata": {},
   "outputs": [
    {
     "name": "stdout",
     "output_type": "stream",
     "text": [
      "tensor([2, 2, 1])\n"
     ]
    }
   ],
   "source": [
    "#This is a 1-D tensor\n",
    "a = torch.tensor([2, 2, 1])\n",
    "print(a)"
   ]
  },
  {
   "cell_type": "code",
   "execution_count": 4,
   "id": "cb63eaac",
   "metadata": {},
   "outputs": [
    {
     "name": "stdout",
     "output_type": "stream",
     "text": [
      "tensor([[2, 1, 4],\n",
      "        [3, 5, 4],\n",
      "        [1, 2, 0],\n",
      "        [4, 3, 2]])\n"
     ]
    }
   ],
   "source": [
    "#This is a 2-D tensor\n",
    "b = torch.tensor([[2,1,4],[3,5,4],[1,2,0],[4,3,2]])\n",
    "print(b)"
   ]
  },
  {
   "cell_type": "code",
   "execution_count": 5,
   "id": "1ce28000",
   "metadata": {},
   "outputs": [
    {
     "name": "stdout",
     "output_type": "stream",
     "text": [
      "torch.Size([3])\n",
      "torch.Size([4, 3])\n",
      "torch.Size([3])\n",
      "torch.Size([4, 3])\n"
     ]
    }
   ],
   "source": [
    "#The size of the tensor\n",
    "print(a.size())\n",
    "print(b.size())\n",
    "print(a.shape)\n",
    "print(b.shape)"
   ]
  },
  {
   "cell_type": "code",
   "execution_count": 6,
   "id": "f96acad8",
   "metadata": {},
   "outputs": [
    {
     "name": "stdout",
     "output_type": "stream",
     "text": [
      "tensor([[2., 1., 4.],\n",
      "        [3., 5., 4.],\n",
      "        [6., 7., 8.]])\n",
      "torch.float32\n"
     ]
    }
   ],
   "source": [
    "#Define a float tensor\n",
    "c = torch.FloatTensor([[2, 1, 4], [3, 5, 4], [6, 7, 8]])\n",
    "print(c)\n",
    "print(c.dtype)\n",
    "\n",
    "#c = torch.tensor([[2, 1, 4], [3, 5, 4], [6, 7, 8]], dtype=torch.float)"
   ]
  },
  {
   "cell_type": "code",
   "execution_count": 7,
   "id": "6175a518",
   "metadata": {},
   "outputs": [
    {
     "name": "stdout",
     "output_type": "stream",
     "text": [
      "tensor([[2., 1., 4.],\n",
      "        [3., 5., 4.],\n",
      "        [6., 7., 8.]], dtype=torch.float64)\n",
      "torch.float64\n"
     ]
    }
   ],
   "source": [
    "#Define double tensor\n",
    "d = torch.DoubleTensor([[2, 1, 4], [3, 5, 4], [6, 7, 8]])\n",
    "print(d)\n",
    "print(d.dtype)\n",
    "# d= torch.tensor([[2, 1, 4], [3, 5, 4], [6, 7, 8]], dtype=torch.double)"
   ]
  },
  {
   "cell_type": "code",
   "execution_count": 8,
   "id": "a2b8e12c",
   "metadata": {},
   "outputs": [
    {
     "name": "stdout",
     "output_type": "stream",
     "text": [
      "Mean :  tensor(4.4444)\n",
      "Std. Dev :  tensor(2.2973)\n"
     ]
    }
   ],
   "source": [
    "#Finding mean and standard deviation of a tensor\n",
    "print(\"Mean : \", c.mean())\n",
    "print(\"Std. Dev : \", c.std())"
   ]
  },
  {
   "cell_type": "code",
   "execution_count": 9,
   "id": "ec04d29d",
   "metadata": {},
   "outputs": [
    {
     "name": "stdout",
     "output_type": "stream",
     "text": [
      "tensor([[2],\n",
      "        [1],\n",
      "        [4],\n",
      "        [3],\n",
      "        [5],\n",
      "        [4],\n",
      "        [1],\n",
      "        [2],\n",
      "        [0],\n",
      "        [4],\n",
      "        [3],\n",
      "        [2]])\n",
      "tensor([2, 1, 4, 3, 5, 4, 1, 2, 0, 4, 3, 2])\n",
      "tensor([[2, 1, 4, 3],\n",
      "        [5, 4, 1, 2],\n",
      "        [0, 4, 3, 2]])\n",
      "tensor([[2, 1, 4, 3],\n",
      "        [5, 4, 1, 2],\n",
      "        [0, 4, 3, 2]])\n",
      "tensor([[2],\n",
      "        [1],\n",
      "        [4],\n",
      "        [3],\n",
      "        [5],\n",
      "        [4],\n",
      "        [1],\n",
      "        [2],\n",
      "        [0],\n",
      "        [4],\n",
      "        [3],\n",
      "        [2]])\n",
      "torch.Size([12, 1])\n"
     ]
    }
   ],
   "source": [
    "#Reshaping a tensor\n",
    "#NOTE : The number of elements in the reshaped tensor should be same as the original tensor\n",
    "#NOTE : If one of the dimension is -1, it is automatically calculated\n",
    "print(b.view(-1,1))\n",
    "print(b.view(12))\n",
    "print(b.view(-1,4))\n",
    "print(b.view(3,4))\n",
    "\n",
    "#Assign b a new shape\n",
    "b = b.view(-1, 1)\n",
    "print(b)\n",
    "print(b.shape)"
   ]
  },
  {
   "cell_type": "code",
   "execution_count": 10,
   "id": "bd5d6e30",
   "metadata": {},
   "outputs": [
    {
     "name": "stdout",
     "output_type": "stream",
     "text": [
      "tensor([[[-1.3240,  0.5863,  0.2825,  0.0371],\n",
      "         [ 0.2998,  0.1817,  1.6659,  0.0408],\n",
      "         [-0.1512, -0.3019, -0.9479,  1.6183]],\n",
      "\n",
      "        [[ 0.3859,  0.5155,  0.7343, -0.3033],\n",
      "         [-0.7734,  0.4085, -0.0281,  0.1297],\n",
      "         [-0.9542, -1.7936, -1.1147, -0.4114]]]) \n",
      "\n",
      "Reshaped 3-D tensor : \n",
      "tensor([[-1.3240,  0.5863,  0.2825,  0.0371,  0.2998,  0.1817,  1.6659,  0.0408,\n",
      "         -0.1512, -0.3019, -0.9479,  1.6183],\n",
      "        [ 0.3859,  0.5155,  0.7343, -0.3033, -0.7734,  0.4085, -0.0281,  0.1297,\n",
      "         -0.9542, -1.7936, -1.1147, -0.4114]])\n",
      "tensor([[-1.3240,  0.5863,  0.2825,  0.0371,  0.2998,  0.1817,  1.6659,  0.0408,\n",
      "         -0.1512, -0.3019, -0.9479,  1.6183],\n",
      "        [ 0.3859,  0.5155,  0.7343, -0.3033, -0.7734,  0.4085, -0.0281,  0.1297,\n",
      "         -0.9542, -1.7936, -1.1147, -0.4114]])\n"
     ]
    }
   ],
   "source": [
    "#Create a 3-D tensor with 2 channels, 3 rows and 4 columns (channels, rows, columns)\n",
    "three_dim = torch.randn(2, 3, 4)\n",
    "print(three_dim, \"\\n\")\n",
    "\n",
    "#Reshape the 3-D tensor\n",
    "print(\"Reshaped 3-D tensor : \")\n",
    "print(three_dim.view(2, 12))\n",
    "print(three_dim.view(2, -1))"
   ]
  },
  {
   "cell_type": "code",
   "execution_count": 11,
   "id": "2b67b981",
   "metadata": {},
   "outputs": [
    {
     "name": "stdout",
     "output_type": "stream",
     "text": [
      "tensor([[0.4648, 0.1645, 0.0979, 0.9687],\n",
      "        [0.9027, 0.8276, 0.9910, 0.0236],\n",
      "        [0.8042, 0.2436, 0.6487, 0.7413],\n",
      "        [0.5644, 0.0329, 0.4277, 0.6437]])\n"
     ]
    }
   ],
   "source": [
    "#Create a matrix with random numbers between 0 and 1\n",
    "r = torch.rand(4, 4)\n",
    "print(r)"
   ]
  },
  {
   "cell_type": "code",
   "execution_count": 12,
   "id": "6aae2b02",
   "metadata": {},
   "outputs": [
    {
     "name": "stdout",
     "output_type": "stream",
     "text": [
      "tensor([[-1.5429,  0.1855,  0.9377,  0.3345],\n",
      "        [-1.0267, -0.8061,  0.9022,  0.5362],\n",
      "        [ 1.5985,  0.0914, -0.0325, -0.1064],\n",
      "        [ 0.0839, -1.3070, -0.6232,  0.5729]])\n",
      "torch.float32\n"
     ]
    }
   ],
   "source": [
    "#Create a matrix with random numbers taken from a normal distribution with mean 0 and variance 1\n",
    "n = torch.randn(4, 4)\n",
    "print(n)\n",
    "print(n.dtype)"
   ]
  },
  {
   "cell_type": "code",
   "execution_count": 13,
   "id": "c8e38e58",
   "metadata": {},
   "outputs": [
    {
     "name": "stdout",
     "output_type": "stream",
     "text": [
      "tensor([7, 7, 9, 6, 9])\n",
      "torch.int64\n"
     ]
    }
   ],
   "source": [
    "#Create an array of 5 random integers from values between 6 and 9 (exlusive of 10)\n",
    "in_array = torch.randint(6, 10, (5,))\n",
    "print(in_array)\n",
    "print(in_array.dtype)"
   ]
  }
 ],
 "metadata": {
  "kernelspec": {
   "display_name": "Python 3 (ipykernel)",
   "language": "python",
   "name": "python3"
  },
  "language_info": {
   "codemirror_mode": {
    "name": "ipython",
    "version": 3
   },
   "file_extension": ".py",
   "mimetype": "text/x-python",
   "name": "python",
   "nbconvert_exporter": "python",
   "pygments_lexer": "ipython3",
   "version": "3.9.0"
  }
 },
 "nbformat": 4,
 "nbformat_minor": 5
}
