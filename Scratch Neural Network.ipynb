{
 "cells": [
  {
   "cell_type": "markdown",
   "metadata": {},
   "source": [
    "# Creating a Neural Network from scratch\n",
    "The Neural Network consists of a input and output layers consisting of 2 neurons and a single hidden layer with 3 neurons"
   ]
  },
  {
   "cell_type": "code",
   "execution_count": 1,
   "metadata": {},
   "outputs": [],
   "source": [
    "import numpy as np\n",
    "import matplotlib.pyplot as plt\n",
    "import sklearn.datasets"
   ]
  },
  {
   "cell_type": "code",
   "execution_count": 2,
   "metadata": {},
   "outputs": [],
   "source": [
    "# X - > Inputs and Y -> Expected outputs\n",
    "x, y = sklearn.datasets.make_moons(200, noise=0.15) # 200 samples with 15% noise"
   ]
  },
  {
   "cell_type": "code",
   "execution_count": 3,
   "metadata": {},
   "outputs": [
    {
     "data": {
      "text/plain": [
       "array([[-3.16642839e-02,  1.24376504e-01],\n",
       "       [ 8.59714063e-01, -4.62522772e-01],\n",
       "       [ 3.84600205e-01, -4.85639132e-01],\n",
       "       [-1.51202871e-01,  1.24722642e+00],\n",
       "       [ 1.93595092e+00, -2.98685439e-02],\n",
       "       [ 4.59514844e-01, -1.21822537e-01],\n",
       "       [-4.98895388e-01,  9.12503156e-01],\n",
       "       [ 1.97613528e+00, -2.40389677e-01],\n",
       "       [ 7.40403120e-01,  8.59101148e-01],\n",
       "       [-8.60756953e-01, -2.19347709e-01],\n",
       "       [ 2.45159573e-01,  7.67727457e-01],\n",
       "       [ 5.51723937e-01,  9.39555554e-01],\n",
       "       [ 7.78151446e-01, -3.58169692e-01],\n",
       "       [ 6.85587061e-01, -2.78809553e-01],\n",
       "       [-9.22764674e-01,  5.39027757e-01],\n",
       "       [ 9.59216015e-01, -3.48300507e-01],\n",
       "       [-2.35824531e-01,  9.74248270e-01],\n",
       "       [ 1.58453779e+00, -3.86462335e-01],\n",
       "       [ 1.45518788e+00, -4.91367378e-01],\n",
       "       [ 1.94337388e+00,  3.76102619e-01],\n",
       "       [ 1.85408594e+00,  2.97820532e-01],\n",
       "       [-1.02258153e-01,  8.46617217e-01],\n",
       "       [-6.75540458e-01,  7.46599319e-01],\n",
       "       [ 2.88528534e-01,  1.30580321e+00],\n",
       "       [ 4.58317146e-02,  7.45277387e-02],\n",
       "       [ 4.10233787e-03,  8.55338817e-01],\n",
       "       [ 2.81686796e-01,  1.02314637e+00],\n",
       "       [ 9.73773254e-01, -3.36153557e-01],\n",
       "       [ 5.88880797e-01, -6.80171599e-01],\n",
       "       [ 5.97318430e-01,  1.05791596e+00],\n",
       "       [ 1.49413325e+00, -2.62305620e-01],\n",
       "       [ 3.81783125e-01,  9.47891944e-01],\n",
       "       [-1.06731689e+00, -1.71194966e-02],\n",
       "       [ 4.97879836e-01, -4.81982670e-01],\n",
       "       [ 1.24741882e+00, -6.88488634e-01],\n",
       "       [ 3.74309887e-01, -4.66735667e-01],\n",
       "       [ 6.68919060e-01,  6.17837402e-01],\n",
       "       [ 2.94737677e-03,  2.31004416e-01],\n",
       "       [-1.12535949e+00,  3.60738502e-02],\n",
       "       [-9.14932528e-01,  3.60609783e-01],\n",
       "       [ 5.84971037e-02,  4.33240595e-01],\n",
       "       [ 1.16960450e+00,  3.16937434e-01],\n",
       "       [ 9.79804172e-01,  2.94053043e-01],\n",
       "       [ 1.07163169e+00,  3.62443616e-01],\n",
       "       [ 1.16757863e+00, -3.85328770e-01],\n",
       "       [ 1.08777805e-01, -2.22751449e-01],\n",
       "       [-1.14522250e+00,  4.97702770e-01],\n",
       "       [ 1.82026538e+00, -3.04588312e-02],\n",
       "       [ 6.41554865e-02,  9.88762875e-02],\n",
       "       [ 1.14045731e+00, -5.66629162e-01],\n",
       "       [ 8.81672881e-01,  5.06303821e-01],\n",
       "       [ 3.87143902e-01,  7.23154963e-01],\n",
       "       [ 1.02077088e+00, -5.46461857e-01],\n",
       "       [ 1.00168885e+00, -5.13328367e-01],\n",
       "       [ 1.51328300e+00, -3.41301701e-01],\n",
       "       [ 1.02308073e+00, -5.42225994e-01],\n",
       "       [ 1.30010050e-01,  1.10863698e+00],\n",
       "       [-1.17883221e+00,  8.04332027e-02],\n",
       "       [-6.12811536e-01,  3.89402144e-01],\n",
       "       [ 2.10804171e-01, -2.08819601e-01],\n",
       "       [ 7.10249222e-01,  5.59615091e-01],\n",
       "       [ 5.50046655e-01,  6.68864028e-01],\n",
       "       [ 7.22603111e-01, -5.27529280e-01],\n",
       "       [-1.15410178e+00,  2.76261030e-01],\n",
       "       [ 5.83744082e-02,  5.94617073e-01],\n",
       "       [ 1.09362937e+00,  1.02243139e+00],\n",
       "       [ 2.58386457e-01, -2.83864799e-01],\n",
       "       [ 5.32415112e-01,  5.39038768e-01],\n",
       "       [ 2.93900688e-01, -3.15723240e-01],\n",
       "       [ 7.74675086e-01,  5.48668496e-01],\n",
       "       [-6.41884248e-01,  8.93754253e-01],\n",
       "       [ 1.85554566e+00, -4.48047067e-02],\n",
       "       [ 1.29299213e+00, -5.08492961e-01],\n",
       "       [ 8.56745251e-01, -3.24894308e-01],\n",
       "       [-1.36142174e+00, -8.32436771e-02],\n",
       "       [ 4.30279461e-01,  9.31192925e-01],\n",
       "       [ 9.63215350e-01,  4.60898198e-01],\n",
       "       [ 9.07953278e-01, -5.92794067e-01],\n",
       "       [ 4.92781863e-01, -2.38168408e-01],\n",
       "       [ 1.51960737e-01,  1.05017086e+00],\n",
       "       [ 1.58020502e-01, -2.55478478e-01],\n",
       "       [-4.10684776e-01,  1.04719123e+00],\n",
       "       [-3.07016582e-01,  1.13766550e+00],\n",
       "       [-8.80317819e-01, -7.66051784e-02],\n",
       "       [-6.76324317e-01,  8.40478329e-01],\n",
       "       [ 1.59410537e+00, -3.46128827e-01],\n",
       "       [ 6.53415902e-01, -3.78689661e-01],\n",
       "       [-6.92725145e-01,  4.65925709e-01],\n",
       "       [-7.68820273e-01,  4.42320376e-01],\n",
       "       [ 8.06775617e-01, -3.34597453e-01],\n",
       "       [-6.23136830e-01,  7.67087248e-01],\n",
       "       [ 1.81148633e+00,  3.21871727e-02],\n",
       "       [ 1.15724654e+00,  1.67785372e-01],\n",
       "       [-4.30926623e-01,  9.85981761e-01],\n",
       "       [ 1.03169304e-01, -1.24248621e-01],\n",
       "       [ 4.42596594e-01, -4.18018264e-01],\n",
       "       [ 1.93982870e+00,  1.69049565e-01],\n",
       "       [ 9.13917770e-01, -8.32188061e-01],\n",
       "       [-2.60407880e-01,  8.13582067e-01],\n",
       "       [-7.83930553e-01,  6.99979903e-01],\n",
       "       [ 5.20039843e-01,  6.72767555e-01],\n",
       "       [ 1.70337476e+00,  1.64104082e-01],\n",
       "       [-1.17214999e+00, -4.14101762e-02],\n",
       "       [ 2.01315287e+00, -1.06123591e-01],\n",
       "       [ 1.95090135e+00,  4.19516192e-01],\n",
       "       [ 7.40379167e-01, -6.49245211e-01],\n",
       "       [ 1.86321458e+00,  1.98280881e-01],\n",
       "       [ 1.41838093e+00, -3.73560935e-01],\n",
       "       [ 1.53719202e+00, -3.31161259e-01],\n",
       "       [ 3.76817354e-01, -1.16650166e-01],\n",
       "       [ 1.09140414e+00,  2.15612413e-01],\n",
       "       [-6.23129169e-01,  8.27611898e-01],\n",
       "       [-1.03588283e-01,  1.02243862e+00],\n",
       "       [-3.06982416e-01,  9.06429441e-01],\n",
       "       [ 7.81565249e-01,  5.31376413e-02],\n",
       "       [ 5.47929347e-01,  8.49025561e-01],\n",
       "       [ 1.01629218e+00, -5.22309205e-01],\n",
       "       [ 1.47149531e+00, -2.92241160e-01],\n",
       "       [-5.71647938e-01,  7.44816541e-01],\n",
       "       [ 1.37366895e+00, -4.51594815e-01],\n",
       "       [ 3.00737018e-02,  7.62298342e-01],\n",
       "       [ 4.87206132e-01,  9.67740066e-01],\n",
       "       [ 9.33071637e-02, -1.68361892e-01],\n",
       "       [ 1.56158366e+00, -2.97777389e-01],\n",
       "       [-1.20484358e-01, -2.77922768e-01],\n",
       "       [ 2.03785640e+00,  4.10456618e-01],\n",
       "       [ 1.75649280e+00, -4.26678218e-02],\n",
       "       [ 2.04484601e+00,  4.84188112e-01],\n",
       "       [ 6.44423976e-01, -5.25466526e-01],\n",
       "       [ 7.88725025e-02,  2.58489279e-01],\n",
       "       [ 1.82255047e+00,  1.73491056e-02],\n",
       "       [ 1.35453678e-01,  1.03420831e+00],\n",
       "       [-7.43589913e-01,  8.36943208e-01],\n",
       "       [ 1.42663599e-01,  9.43206195e-01],\n",
       "       [ 4.27770823e-01,  9.31651623e-01],\n",
       "       [ 1.73808657e+00,  1.01062131e-01],\n",
       "       [ 2.26030693e+00,  4.68377473e-01],\n",
       "       [ 1.78180766e+00,  2.62543382e-01],\n",
       "       [-4.17992544e-01,  7.42018150e-01],\n",
       "       [ 1.57451302e-01,  8.53500277e-02],\n",
       "       [ 1.19174610e-01, -2.18252708e-01],\n",
       "       [-1.00907630e+00,  1.35782518e-01],\n",
       "       [-8.84130059e-01,  3.44054916e-01],\n",
       "       [ 1.96883362e+00,  3.65885769e-03],\n",
       "       [ 5.70577378e-03, -6.99753856e-02],\n",
       "       [ 9.52618914e-01,  1.86455236e-01],\n",
       "       [-4.98160424e-01,  8.75137323e-01],\n",
       "       [ 1.81217967e-03,  2.21236123e-01],\n",
       "       [-1.09873634e+00,  3.96042990e-01],\n",
       "       [-8.42607416e-01,  1.76109703e-02],\n",
       "       [ 1.10255901e+00,  2.76099864e-01],\n",
       "       [-3.38092493e-01,  7.98251994e-01],\n",
       "       [ 2.05789296e+00,  9.67218194e-02],\n",
       "       [ 8.01508242e-01, -1.20336058e-01],\n",
       "       [ 1.15785855e+00,  2.31063416e-01],\n",
       "       [ 2.02322724e+00, -7.36595258e-02],\n",
       "       [ 1.51879936e+00, -4.02852710e-01],\n",
       "       [ 1.95636153e+00,  3.94910825e-01],\n",
       "       [ 6.72625734e-01,  6.35205015e-01],\n",
       "       [ 1.46608510e-01,  8.73860649e-01],\n",
       "       [ 1.06842561e+00,  2.90508232e-01],\n",
       "       [ 3.76839025e-02,  1.11882407e+00],\n",
       "       [ 1.95069972e+00,  9.36007045e-01],\n",
       "       [ 9.41160078e-01,  7.63752297e-01],\n",
       "       [ 6.01725212e-02,  1.06202009e+00],\n",
       "       [-6.01774108e-01,  6.77190528e-01],\n",
       "       [ 1.08841016e+00,  8.72576174e-02],\n",
       "       [ 1.25166043e+00, -4.38547632e-01],\n",
       "       [-7.26853117e-01,  4.69129909e-01],\n",
       "       [ 1.05359427e+00, -3.42670504e-01],\n",
       "       [-5.70239814e-02, -3.48101338e-01],\n",
       "       [-3.36596753e-02,  1.05593441e-01],\n",
       "       [-7.09755966e-01,  8.11516197e-01],\n",
       "       [ 5.13416701e-01,  5.50251980e-01],\n",
       "       [ 2.89463986e-01,  1.06553153e+00],\n",
       "       [ 1.16965471e+00, -3.94407274e-01],\n",
       "       [-7.96479156e-01,  8.55674907e-01],\n",
       "       [-2.47681277e-01,  9.47174723e-01],\n",
       "       [ 8.74182708e-01,  5.78722434e-01],\n",
       "       [-4.86062972e-01,  5.16757545e-01],\n",
       "       [ 1.50279267e+00, -2.75571236e-01],\n",
       "       [ 5.40387758e-01, -4.80727690e-01],\n",
       "       [ 1.66262728e+00, -2.83106207e-01],\n",
       "       [ 1.68800493e+00, -2.59251979e-01],\n",
       "       [ 1.15489602e+00,  4.42805672e-01],\n",
       "       [ 7.42179814e-04,  6.95135514e-01],\n",
       "       [ 1.44500041e-01,  1.11585326e-01],\n",
       "       [ 2.64716386e-02,  6.32069520e-01],\n",
       "       [ 9.09316388e-01,  5.68760772e-01],\n",
       "       [ 7.58509379e-01, -1.30392565e-01],\n",
       "       [ 3.34402160e-01,  3.17282272e-01],\n",
       "       [-1.01271435e+00,  2.45643310e-01],\n",
       "       [ 6.60471093e-01,  8.81312012e-01],\n",
       "       [ 1.11509884e+00,  6.87537215e-01],\n",
       "       [-1.02732659e+00,  1.73758907e-01],\n",
       "       [ 5.30775097e-01,  6.65064241e-01],\n",
       "       [-4.62088472e-01,  8.65304250e-01],\n",
       "       [ 3.99853333e-01, -2.46426404e-01],\n",
       "       [-1.65867645e-01,  4.49882629e-01],\n",
       "       [ 2.16759653e+00,  1.99488339e-01]])"
      ]
     },
     "execution_count": 3,
     "metadata": {},
     "output_type": "execute_result"
    }
   ],
   "source": [
    "x"
   ]
  },
  {
   "cell_type": "code",
   "execution_count": 4,
   "metadata": {},
   "outputs": [
    {
     "data": {
      "text/plain": [
       "array([1, 1, 1, 0, 1, 1, 0, 1, 0, 0, 0, 0, 1, 1, 0, 1, 0, 1, 1, 1, 1, 0,\n",
       "       0, 0, 1, 0, 0, 1, 1, 0, 1, 0, 0, 1, 1, 1, 0, 1, 0, 0, 1, 0, 0, 0,\n",
       "       1, 1, 0, 1, 1, 1, 0, 0, 1, 1, 1, 1, 0, 0, 0, 1, 0, 0, 1, 0, 1, 0,\n",
       "       1, 0, 1, 0, 0, 1, 1, 1, 0, 0, 0, 1, 1, 0, 1, 0, 0, 0, 0, 1, 1, 0,\n",
       "       0, 1, 0, 1, 0, 0, 1, 1, 1, 1, 0, 0, 0, 1, 0, 1, 1, 1, 1, 1, 1, 1,\n",
       "       0, 0, 0, 0, 0, 0, 1, 1, 0, 1, 0, 0, 1, 1, 1, 1, 1, 1, 1, 1, 1, 0,\n",
       "       0, 0, 0, 1, 1, 1, 0, 1, 1, 0, 0, 1, 1, 0, 0, 1, 0, 0, 0, 0, 1, 0,\n",
       "       0, 1, 1, 1, 0, 0, 0, 0, 1, 0, 0, 0, 0, 1, 0, 1, 1, 1, 0, 0, 0, 1,\n",
       "       0, 0, 0, 0, 1, 1, 1, 1, 0, 1, 1, 1, 0, 1, 1, 0, 0, 0, 0, 0, 0, 1,\n",
       "       1, 1], dtype=int64)"
      ]
     },
     "execution_count": 4,
     "metadata": {},
     "output_type": "execute_result"
    }
   ],
   "source": [
    "#Actual Output\n",
    "#Since there are two output neurons, this matrice consists of the correct neuron index for all 200 samples\n",
    "y"
   ]
  },
  {
   "cell_type": "code",
   "execution_count": 5,
   "metadata": {},
   "outputs": [
    {
     "data": {
      "text/plain": [
       "<matplotlib.collections.PathCollection at 0x27e7d69c610>"
      ]
     },
     "execution_count": 5,
     "metadata": {},
     "output_type": "execute_result"
    },
    {
     "data": {
      "image/png": "[encoded data removed]",
      "text/plain": [
       "<Figure size 640x480 with 1 Axes>"
      ]
     },
     "metadata": {},
     "output_type": "display_data"
    }
   ],
   "source": [
    "# Syntax: plt.scatter(inputs(first feature), inputs(second feature), color)\n",
    "plt.scatter(x[:, 0], x[:, 1], c=y)"
   ]
  },
  {
   "cell_type": "code",
   "execution_count": 6,
   "metadata": {},
   "outputs": [
    {
     "name": "stdout",
     "output_type": "stream",
     "text": [
      "(200, 2)\n",
      "(200,)\n"
     ]
    }
   ],
   "source": [
    "print(x.shape) #200 samples with 2 features\n",
    "print(y.shape) #200 samples with 1 output"
   ]
  },
  {
   "cell_type": "markdown",
   "metadata": {},
   "source": [
    "<div style=\"text-align:center;\"><img src=\"./Images/scratch_nn.png\"></div>\n",
    "\n",
    "# Input Layer matrix\n",
    "200 samples with 2 features each like given below\n",
    "\n",
    "<pre>\n",
    "            Feature 1       Feature 2\n",
    "Sample 1    0.6             0.5         \n",
    "Sample 2    0.9             0.4\n",
    ".\n",
    ".\n",
    ".\n",
    "Sample 200  0.1             0.01\n",
    "</pre>\n",
    "\n",
    "\n",
    "# Input to Hidden layer weights\n",
    "\n",
    "<pre>\n",
    "            Output1         Output2         Output3\n",
    "Input1      <span style=\"color:red;\">w1              w2              w3</span>\n",
    "Input2      <span style=\"color:green;\">w4              w5              w6</span>\n",
    "\n",
    "</pre>\n",
    "\n",
    "Dot Product => 200x2 (input matrix) * 2x3 (weight matrix) = 200x3 (input to next layer)\n",
    "\n",
    "Dot Product => 200x3 (hidden layer) * 3x2 (weight matrix) = 200x2 (output layer)"
   ]
  },
  {
   "cell_type": "code",
   "execution_count": 7,
   "metadata": {},
   "outputs": [],
   "source": [
    "# Declaring Hyperparameters\n",
    "input_neurons = 2\n",
    "output_neurons = 2\n",
    "samples = x.shape[0]\n",
    "learning_rate = 0.001\n",
    "lambda_param = 0.01"
   ]
  },
  {
   "cell_type": "code",
   "execution_count": 8,
   "metadata": {},
   "outputs": [],
   "source": [
    "# Model is stored in form of a dictionary\n",
    "w1 = []\n",
    "w2 = []\n",
    "b1 =[]\n",
    "b2 = []\n",
    "model_dict = {'w1': w1, 'b1': b1, 'w2': w2, 'b2': b2}"
   ]
  },
  {
   "cell_type": "code",
   "execution_count": 9,
   "metadata": {},
   "outputs": [],
   "source": [
    "# Function to retrieve the model weights and biases\n",
    "def retreive(model_dict):\n",
    "    w1 = model_dict['w1']\n",
    "    b1 = model_dict['b1']\n",
    "    w2 = model_dict['w2']\n",
    "    b2 = model_dict['b2']\n",
    "    return w1, b1, w2, b2"
   ]
  },
  {
   "cell_type": "code",
   "execution_count": 10,
   "metadata": {},
   "outputs": [],
   "source": [
    "#Fuction for forward propagation, parameters(input, model)\n",
    "def forward(x, model_dict):\n",
    "    w1, b1, w2, b2 = retreive(model_dict)\n",
    "    z1 = x.dot(w1) + b1 #Hidden Layer\n",
    "    a1 = np.tanh(z1) #Activation Function\n",
    "\n",
    "    z2 = a1.dot(w2) + b2 #Output Layer\n",
    "\n",
    "    #Softmax Function\n",
    "    exp_scores = np.exp(z2)\n",
    "    softmax = exp_scores/np.sum(exp_scores, axis = 1, keepdims=True)\n",
    "\n",
    "    return z1, a1, softmax"
   ]
  },
  {
   "cell_type": "code",
   "execution_count": 11,
   "metadata": {},
   "outputs": [],
   "source": [
    "#Function for calculating loss (loss function => Cross Entropy Loss), paramters(predicted_out, actual_out)\n",
    "def loss(softmax, y, model_dict):\n",
    "    w1, b1, w2, b2 = retreive(model_dict)\n",
    "\n",
    "    m = np.zeros(200)\n",
    "    for i, correct_index in enumerate(y):\n",
    "        predicted = softmax[i][correct_index]\n",
    "        m[i] = predicted\n",
    "\n",
    "    log_prob = -np.log(m)\n",
    "    softmax_loss = np.sum(log_prob)\n",
    "    reg_loss = lambda_param/2 * (np.sum(np.square(w1)) + np.sum(np.square(w2))) #Regularization\n",
    "    loss = softmax_loss + reg_loss\n",
    "\n",
    "    return float(loss/y.shape[0])"
   ]
  },
  {
   "cell_type": "code",
   "execution_count": 12,
   "metadata": {},
   "outputs": [],
   "source": [
    "#Function for predicting outputs\n",
    "def predict(x, model_dict):\n",
    "    w1, b1, w2, b2 = retreive(model_dict)\n",
    "    z1 = x.dot(w1) + b1 #Hidden Layer\n",
    "    a1 = np.tanh(z1) #Activation Function\n",
    "\n",
    "    z2 = a1.dot(w2) + b2 #Output Layer\n",
    "\n",
    "    #Softmax Function\n",
    "    exp_scores = np.exp(z2)\n",
    "    softmax = exp_scores/np.sum(exp_scores, dim = 1, keepdims=True)\n",
    "\n",
    "    return np.argmax(softmax, axis=1) #This return the index of the max prediction in the sameples"
   ]
  },
  {
   "cell_type": "markdown",
   "metadata": {},
   "source": [
    "# Equation for BackPropagation\n",
    "\n",
    "![backprop](https://user-images.githubusercontent.com/30661597/67566804-3e405980-f75b-11e9-9e19-f3c388745c0a.png)\n",
    "\n",
    "<pre>A1, A2 and A3 are the output of the hidden layers</pre>\n"
   ]
  },
  {
   "cell_type": "markdown",
   "metadata": {},
   "source": [
    "## $\\frac{\\partial L}{\\partial y_{1}}=-\\tilde{y}_{1}\\left[\\frac{\\left(y_{1}\\right)^{\\prime}}{y_{1}}\\right]=-\\tilde{y}_{1}\\left[\\frac{1}{y_{1}}\\right]$\n",
    "\n",
    "## $\\frac{\\partial y_{1}}{\\partial z_{1}}=\\frac{\\partial}{\\partial z_{1}} \\cdot \\frac{e^{z_{1}}}{e^{z_{1}}+e^{z_{2}}+e^{z_{3}}}$\n",
    "\n",
    "<pre>Derivative of y1</pre>\n",
    "![der](https://user-images.githubusercontent.com/46392773/56460220-ec94cc00-63d1-11e9-91d1-b4e3c57c81fd.png)\n",
    "\n",
    "## $\\frac{\\partial L}{\\partial y_{1}} \\frac{\\partial y_{1}}{\\partial z_{1}}=-\\tilde{y}_{1}\\left[\\frac{1}{y_{1}}\\right]\\frac{\\partial y_{1}}{\\partial z_{1}}=-\\tilde{y}_{1}\\left[\\frac{y_{1}\\left(1-y_{1}\\right)}{y_{1}}\\right]=-\\tilde{y}_{1}\\left(1-y_{1}\\right)$\n",
    "\n",
    "\n",
    "Recall that our labels are in the form of a one-hot vector: (ex. If class 1 is correct, then the corresponding label is [1,0], if class 2 is correct, then the corresponding label is [0,1]).\n",
    "\n",
    "If class one is the actual prediction: $\\tilde{y}_{1} = 1 $, then we have:\n",
    "\n",
    "\n",
    "## $\\frac{\\partial L}{\\partial y_{1}} \\frac{\\partial y_{1}}{\\partial z_{1}} = -1(1-y_{1}) = y_{1} - 1 = \\delta_{3}$\n",
    "\n"
   ]
  },
  {
   "cell_type": "markdown",
   "metadata": {},
   "source": [
    "## $\\delta_{2}=\\left(1-\\tanh ^{2} z_{1}\\right) \\circ \\delta_{3} W_{2}^{T}$"
   ]
  },
  {
   "cell_type": "markdown",
   "metadata": {},
   "source": [
    "## $\\frac{\\partial L}{\\partial W_{2}}=a_{1}^{T} \\delta_{3}$"
   ]
  },
  {
   "cell_type": "markdown",
   "metadata": {},
   "source": [
    "## $\\frac{\\partial L}{\\partial b_{2}}=\\delta_{3}$"
   ]
  },
  {
   "cell_type": "markdown",
   "metadata": {},
   "source": [
    "## $\\frac{\\partial L}{\\partial W_{1}}=x^{T} \\delta 2$"
   ]
  },
  {
   "cell_type": "markdown",
   "metadata": {},
   "source": [
    "## $\\frac{\\partial L}{\\partial b_{1}}=\\delta 2$"
   ]
  },
  {
   "cell_type": "code",
   "execution_count": 13,
   "metadata": {},
   "outputs": [],
   "source": [
    "#Function for backpropagation, parameters(input, actual_labels, model, epochs)\n",
    "def backpropagation(x, y, model_dict, epochs):\n",
    "    for i in range(epochs):\n",
    "        w1, b1, w2, b2 = retreive(model_dict)\n",
    "        z1, a1, probs = forward(x, model_dict)\n",
    "        \n",
    "        delta3 = np.copy(probs)\n",
    "        delta3[range(x.shape[0]), y] -= 1 #Extracts out predicted values of the expected class (delta3 = probs - 1)\n",
    "        dw2 = (a1.T).dot(delta3) #a1: (200x3)shape dot (200x2) = (3x2)\n",
    "        db2 = np.sum(delta3, axis=0, keepdims=True) #(1x2)\n",
    "\n",
    "        delta2 = delta3.dot(w2.T) * (1 - np.power(np.tanh(z1), 2))\n",
    "        dw1 = np.dot(x.T, delta2)\n",
    "        db1 = np.sum(delta2, axis=0)\n",
    "\n",
    "        #Add reqularization\n",
    "        dw2 += lambda_param * np.sum(w2)\n",
    "        dw1 += lambda_param * np.sum(w1)\n",
    "\n",
    "        #Update weights\n",
    "        w1 += -learning_rate * dw1  #W = W + (-learning_rate * gradient)\n",
    "        b1 += -learning_rate * db1\n",
    "        w2 += -learning_rate * dw2\n",
    "        b2 += -learning_rate * db2\n",
    "\n",
    "        #Update dictionary\n",
    "        model_dict = {'w1': w1, \"b1\": b1, \"w2\": w2, \"b2\": b2}\n",
    "\n",
    "        #Print loss every 50 epochs\n",
    "        if i%50 == 0:\n",
    "            print(\"Loss at epoch {} is : {:3f}\".format(i, loss(probs, y, model_dict)))\n",
    "\n",
    "    return model_dict"
   ]
  },
  {
   "cell_type": "code",
   "execution_count": 14,
   "metadata": {},
   "outputs": [],
   "source": [
    "# Define Initial Weights\n",
    "def init_network(input_dim, hidden_dim, output_dim):\n",
    "    model = {}\n",
    "    # Xavier Initialization \n",
    "    W1 = np.random.randn(input_dim, hidden_dim) / np.sqrt(input_dim)\n",
    "    b1 = np.zeros((1, hidden_dim))\n",
    "    W2 = np.random.randn(hidden_dim, output_dim) / np.sqrt(hidden_dim)\n",
    "    b2 = np.zeros((1, output_dim))\n",
    "    model['w1'] = W1\n",
    "    model['b1'] = b1\n",
    "    model['w2'] = W2\n",
    "    model['b2'] = b2\n",
    "    return model"
   ]
  },
  {
   "cell_type": "code",
   "execution_count": 15,
   "metadata": {},
   "outputs": [
    {
     "name": "stdout",
     "output_type": "stream",
     "text": [
      "Loss at epoch 0 is : 0.653895\n",
      "Loss at epoch 50 is : 0.302220\n",
      "Loss at epoch 100 is : 0.276733\n"
     ]
    },
    {
     "name": "stdout",
     "output_type": "stream",
     "text": [
      "Loss at epoch 150 is : 0.269576\n",
      "Loss at epoch 200 is : 0.265264\n",
      "Loss at epoch 250 is : 0.261709\n",
      "Loss at epoch 300 is : 0.258528\n",
      "Loss at epoch 350 is : 0.255636\n",
      "Loss at epoch 400 is : 0.253008\n",
      "Loss at epoch 450 is : 0.250627\n",
      "Loss at epoch 500 is : 0.248477\n",
      "Loss at epoch 550 is : 0.246530\n",
      "Loss at epoch 600 is : 0.244751\n",
      "Loss at epoch 650 is : 0.243077\n",
      "Loss at epoch 700 is : 0.241367\n",
      "Loss at epoch 750 is : 0.239260\n",
      "Loss at epoch 800 is : 0.235902\n",
      "Loss at epoch 850 is : 0.230223\n",
      "Loss at epoch 900 is : 0.221785\n",
      "Loss at epoch 950 is : 0.210238\n"
     ]
    }
   ],
   "source": [
    "model_dict = init_network(input_dim = input_neurons , hidden_dim = 3, output_dim = output_neurons)\n",
    "model = backpropagation(x, y, model_dict, 1000)"
   ]
  }
 ],
 "metadata": {
  "kernelspec": {
   "display_name": "Python 3 (ipykernel)",
   "language": "python",
   "name": "python3"
  },
  "language_info": {
   "codemirror_mode": {
    "name": "ipython",
    "version": 3
   },
   "file_extension": ".py",
   "mimetype": "text/x-python",
   "name": "python",
   "nbconvert_exporter": "python",
   "pygments_lexer": "ipython3",
   "version": "3.9.0"
  }
 },
 "nbformat": 4,
 "nbformat_minor": 2
}
