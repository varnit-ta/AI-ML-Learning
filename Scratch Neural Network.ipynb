{
 "cells": [
  {
   "cell_type": "markdown",
   "metadata": {},
   "source": [
    "# Creating a Neural Network from scratch\n",
    "The Neural Network consists of a input and output layers consisting of 2 neurons and a single hidden layer with 3 neurons"
   ]
  },
  {
   "cell_type": "code",
   "execution_count": 194,
   "metadata": {},
   "outputs": [],
   "source": [
    "import numpy as np\n",
    "import matplotlib.pyplot as plt\n",
    "import sklearn.datasets"
   ]
  },
  {
   "cell_type": "code",
   "execution_count": 195,
   "metadata": {},
   "outputs": [],
   "source": [
    "# X - > Inputs and Y -> Expected outputs\n",
    "x, y = sklearn.datasets.make_moons(200, noise=0.15) # 200 samples with 15% noise"
   ]
  },
  {
   "cell_type": "code",
   "execution_count": 196,
   "metadata": {},
   "outputs": [
    {
     "data": {
      "text/plain": [
       "array([[ 9.67010420e-01, -4.95709402e-01],\n",
       "       [ 1.18425610e+00, -5.34251170e-01],\n",
       "       [-1.96653754e-01,  1.14141441e+00],\n",
       "       [ 4.76258792e-01,  7.73335435e-01],\n",
       "       [ 1.77174085e-01, -1.22028162e-01],\n",
       "       [ 1.80943414e-01,  8.49774245e-01],\n",
       "       [ 1.90681368e+00, -1.13698306e-01],\n",
       "       [ 6.56588914e-01, -4.91644725e-01],\n",
       "       [ 1.26062296e+00,  2.96898876e-02],\n",
       "       [ 1.97477487e+00, -3.09893333e-01],\n",
       "       [ 7.14376180e-01,  5.82762717e-01],\n",
       "       [ 1.41360474e+00, -2.03437090e-01],\n",
       "       [-1.02254691e+00,  6.82297825e-01],\n",
       "       [-8.65410924e-01,  2.02592950e-01],\n",
       "       [ 8.69281403e-01, -7.61189170e-02],\n",
       "       [-1.18185365e+00,  9.97087475e-03],\n",
       "       [ 1.56813822e-01,  1.09806571e+00],\n",
       "       [ 9.66023456e-01,  4.56638246e-01],\n",
       "       [ 1.23276816e+00, -5.21990324e-02],\n",
       "       [ 1.14243125e+00, -4.91750633e-01],\n",
       "       [ 7.34130846e-02, -2.84492056e-01],\n",
       "       [ 4.71595218e-02,  8.72183269e-01],\n",
       "       [-7.79789653e-01,  6.48433939e-01],\n",
       "       [ 9.04174235e-01,  4.29310416e-01],\n",
       "       [-3.10600833e-01,  7.93071763e-01],\n",
       "       [-1.04738411e+00,  4.53354060e-02],\n",
       "       [ 6.31889833e-01,  3.42038835e-01],\n",
       "       [ 4.86353421e-01,  3.29373071e-01],\n",
       "       [ 8.69664970e-01,  3.67470052e-01],\n",
       "       [ 2.84814817e-01, -2.05993731e-01],\n",
       "       [ 1.58050305e+00,  3.33227675e-01],\n",
       "       [ 4.40643586e-01, -4.57775889e-01],\n",
       "       [ 9.53210438e-01,  4.79105884e-01],\n",
       "       [ 1.44420014e-01,  9.52142620e-01],\n",
       "       [ 5.46318508e-01, -3.39872480e-01],\n",
       "       [ 1.69668005e+00,  1.59454765e-01],\n",
       "       [ 1.11325922e+00, -1.23995425e-01],\n",
       "       [ 1.10960508e+00, -4.98359535e-01],\n",
       "       [-1.02428319e+00,  2.87272279e-01],\n",
       "       [-4.08529712e-01,  9.51552379e-01],\n",
       "       [ 8.36678732e-01,  4.51479971e-01],\n",
       "       [ 1.92944491e-01, -3.85726408e-02],\n",
       "       [-8.16556946e-01,  3.44899962e-01],\n",
       "       [ 9.06274605e-01, -1.05315858e-01],\n",
       "       [-2.55730615e-01,  1.16395257e+00],\n",
       "       [ 1.17637604e+00, -3.90083204e-01],\n",
       "       [-1.22414032e-01, -1.99723758e-01],\n",
       "       [ 8.26282359e-02,  4.89365941e-01],\n",
       "       [ 6.39850676e-03,  2.33816153e-01],\n",
       "       [-2.10027806e-01,  1.14783026e+00],\n",
       "       [ 1.02204802e+00,  2.60663156e-01],\n",
       "       [ 1.94212904e-01,  1.05336883e+00],\n",
       "       [-1.35764603e-01,  3.48049772e-01],\n",
       "       [-8.29103486e-01,  6.65257289e-01],\n",
       "       [ 8.02031370e-01,  1.45137543e-01],\n",
       "       [ 1.83689275e-01,  1.11510106e+00],\n",
       "       [ 3.73173626e-01, -1.85150014e-01],\n",
       "       [-6.89991818e-01,  5.72547409e-01],\n",
       "       [ 1.26096177e+00, -6.50751931e-01],\n",
       "       [ 1.07122623e+00,  5.78329685e-01],\n",
       "       [ 2.19618794e+00,  1.11286811e-01],\n",
       "       [-7.95305224e-01,  7.96310541e-01],\n",
       "       [-3.32727400e-01,  8.91801701e-01],\n",
       "       [ 4.82526331e-01,  8.89472459e-01],\n",
       "       [ 4.71165469e-01, -3.81467103e-01],\n",
       "       [-1.12583429e+00,  4.57096864e-01],\n",
       "       [ 4.21318508e-01, -2.91443859e-01],\n",
       "       [-1.92464034e-01,  2.23816859e-01],\n",
       "       [ 2.02192690e+00,  1.51633082e-01],\n",
       "       [ 1.71794356e+00, -4.77545912e-01],\n",
       "       [ 6.23711851e-01,  4.27533653e-01],\n",
       "       [ 2.64614551e-01,  7.53541301e-01],\n",
       "       [ 3.63527731e-01,  9.50417223e-01],\n",
       "       [-5.27269517e-01,  6.71058349e-01],\n",
       "       [ 1.99849854e+00,  4.23845320e-01],\n",
       "       [ 1.71996485e+00, -2.25887365e-01],\n",
       "       [ 7.45910763e-02,  9.86622578e-02],\n",
       "       [-8.53818737e-01,  5.20308528e-01],\n",
       "       [-3.84344795e-01,  1.08926610e+00],\n",
       "       [ 4.07135927e-01,  8.48829910e-01],\n",
       "       [ 1.46162251e-01,  2.47912425e-01],\n",
       "       [ 7.22250779e-02,  8.18281474e-01],\n",
       "       [-1.05074134e+00,  5.12043147e-01],\n",
       "       [ 2.12700601e+00,  1.57205681e-01],\n",
       "       [ 1.09729217e+00, -4.09574944e-01],\n",
       "       [ 4.47629315e-01,  1.02509937e+00],\n",
       "       [-8.27666278e-02,  7.08932428e-01],\n",
       "       [ 1.98776151e+00,  6.00836036e-01],\n",
       "       [-1.37299499e-01,  9.09905239e-01],\n",
       "       [-4.18937581e-01,  8.20242516e-01],\n",
       "       [ 1.52579818e+00, -4.36269717e-01],\n",
       "       [ 1.45800382e+00, -3.32989344e-01],\n",
       "       [ 1.91592774e+00, -3.23730933e-02],\n",
       "       [ 2.09619799e+00,  2.69077827e-01],\n",
       "       [-8.49313644e-01,  8.46999009e-02],\n",
       "       [ 9.56799773e-01, -3.80969312e-01],\n",
       "       [ 1.20060842e-01,  1.14045378e+00],\n",
       "       [ 1.49901748e+00, -3.82471222e-01],\n",
       "       [ 2.59382079e-01,  9.63956551e-01],\n",
       "       [-5.82292492e-01,  5.57186397e-01],\n",
       "       [ 1.46767302e+00, -5.45443148e-01],\n",
       "       [-2.46566225e-01,  7.22138355e-01],\n",
       "       [ 8.78794217e-01, -5.06296737e-01],\n",
       "       [ 3.30277394e-02,  1.06793866e+00],\n",
       "       [-8.74883622e-01, -1.19126164e-01],\n",
       "       [ 1.03623724e+00,  6.61595877e-01],\n",
       "       [-9.53769386e-01,  1.00374828e-01],\n",
       "       [ 1.71130402e+00,  1.48320662e-01],\n",
       "       [ 1.83774657e-01, -4.50106658e-01],\n",
       "       [ 6.92403969e-01, -4.81731322e-01],\n",
       "       [ 9.18722985e-01,  1.07958940e-01],\n",
       "       [ 2.10478966e+00,  2.95261470e-01],\n",
       "       [-1.26261293e-01,  2.08846891e-01],\n",
       "       [-8.91441548e-01,  1.40439117e-01],\n",
       "       [ 6.30752313e-01,  6.02892628e-01],\n",
       "       [-2.77329739e-01,  9.49465809e-01],\n",
       "       [-4.44249885e-02,  1.08358345e+00],\n",
       "       [ 1.13314671e+00,  3.08268238e-01],\n",
       "       [ 6.54095222e-03,  1.37968644e-01],\n",
       "       [-7.68408605e-01,  8.46953064e-01],\n",
       "       [ 6.05447944e-01,  8.63778060e-01],\n",
       "       [-2.62394386e-01,  7.76855104e-01],\n",
       "       [-8.81539636e-02, -3.37705992e-02],\n",
       "       [-5.55920978e-01,  8.14762728e-01],\n",
       "       [ 7.26106690e-01,  1.11859894e+00],\n",
       "       [ 4.31236933e-01, -5.29439275e-01],\n",
       "       [-2.17595409e-01,  2.04403626e-01],\n",
       "       [-8.85564994e-01,  3.27978604e-01],\n",
       "       [ 9.96233066e-01,  5.14433567e-01],\n",
       "       [ 1.01088570e+00, -5.24698506e-01],\n",
       "       [-2.52072412e-01,  6.87925927e-01],\n",
       "       [ 1.03519980e-01,  8.15539686e-02],\n",
       "       [-1.68979649e-01,  6.61033587e-01],\n",
       "       [ 3.63981055e-01,  8.44501136e-01],\n",
       "       [ 5.52464488e-01, -2.67102241e-01],\n",
       "       [ 1.30756857e+00, -2.34621019e-01],\n",
       "       [-2.34804837e-02,  1.29748714e-01],\n",
       "       [ 1.90356672e+00,  3.77184162e-01],\n",
       "       [ 1.88872120e-01, -2.95339351e-02],\n",
       "       [ 7.88478388e-01, -2.89266726e-01],\n",
       "       [ 9.08196479e-01, -2.52306451e-01],\n",
       "       [-7.85887261e-01,  4.51742409e-01],\n",
       "       [ 3.35420687e-01,  1.22658480e-01],\n",
       "       [ 8.87529982e-01, -2.83210274e-03],\n",
       "       [ 1.38337647e+00, -2.78228977e-01],\n",
       "       [ 1.18514960e+00,  1.71665730e-01],\n",
       "       [ 3.07753175e-01, -8.90737889e-02],\n",
       "       [-1.10748080e+00,  9.58549366e-01],\n",
       "       [ 1.50995920e+00, -3.93804800e-01],\n",
       "       [ 3.89377908e-01, -2.71803040e-01],\n",
       "       [ 1.87043556e+00,  1.27098148e-01],\n",
       "       [ 1.59630352e+00, -6.15328634e-01],\n",
       "       [-1.11061998e+00, -5.12268117e-02],\n",
       "       [ 7.27098794e-01, -2.63727265e-01],\n",
       "       [ 1.86094989e+00, -9.79947005e-04],\n",
       "       [ 4.06921999e-01,  3.23496893e-01],\n",
       "       [ 7.49412092e-02,  8.56925278e-02],\n",
       "       [ 1.84628071e+00,  6.65929435e-01],\n",
       "       [-8.44739553e-01,  4.70431100e-01],\n",
       "       [ 1.91925491e+00,  5.31732157e-01],\n",
       "       [-5.46978895e-01,  4.43945171e-01],\n",
       "       [ 4.91336232e-01, -4.51422100e-01],\n",
       "       [ 3.57872305e-01, -3.09445251e-01],\n",
       "       [ 4.14308365e-01,  8.74712966e-01],\n",
       "       [ 1.72046106e+00,  3.53724736e-01],\n",
       "       [ 8.35078378e-01,  5.61553370e-01],\n",
       "       [-7.18935432e-01,  8.91179317e-01],\n",
       "       [ 1.95493736e+00,  1.98641834e-01],\n",
       "       [ 1.38188093e+00, -5.81408884e-01],\n",
       "       [ 7.83764832e-01,  8.76559715e-01],\n",
       "       [ 6.88122893e-02,  4.04415036e-01],\n",
       "       [ 5.16650637e-01, -5.46576181e-01],\n",
       "       [ 1.02520208e-01,  9.28076120e-01],\n",
       "       [ 3.17880650e-01, -2.24236906e-01],\n",
       "       [ 5.36821090e-01, -4.31733103e-01],\n",
       "       [ 1.94328408e+00,  5.66663863e-01],\n",
       "       [-3.95299146e-01,  1.00919636e+00],\n",
       "       [ 2.82448525e-01, -4.78101766e-01],\n",
       "       [-9.53346268e-01,  4.92185631e-01],\n",
       "       [ 1.17857816e+00, -5.97569668e-01],\n",
       "       [ 2.05370587e-01, -1.50331294e-01],\n",
       "       [ 1.29932985e+00, -3.91204462e-01],\n",
       "       [ 1.63296993e+00, -3.40575125e-01],\n",
       "       [ 7.00615151e-01, -3.16144217e-01],\n",
       "       [ 9.28924029e-01, -6.64668355e-01],\n",
       "       [-1.20139569e+00,  3.85209362e-01],\n",
       "       [ 9.52359535e-01, -1.98624980e-02],\n",
       "       [-6.79897346e-01,  6.66773170e-01],\n",
       "       [-8.19390312e-01,  3.75816645e-01],\n",
       "       [ 6.06095753e-01,  8.24658574e-01],\n",
       "       [ 1.77275448e-01, -1.71280176e-01],\n",
       "       [-7.93975209e-01,  5.07624837e-01],\n",
       "       [ 1.79554719e+00,  1.92637973e-01],\n",
       "       [ 1.93145145e+00,  8.00405033e-02],\n",
       "       [ 8.35617240e-01, -5.81797543e-01],\n",
       "       [-1.25215201e-01,  8.08429674e-01],\n",
       "       [ 8.34004804e-01,  6.91761176e-01],\n",
       "       [-2.89848222e-01,  7.97916423e-01],\n",
       "       [ 2.01325285e+00, -5.45002771e-02],\n",
       "       [ 1.27266802e+00, -6.40741102e-01]])"
      ]
     },
     "execution_count": 196,
     "metadata": {},
     "output_type": "execute_result"
    }
   ],
   "source": [
    "x"
   ]
  },
  {
   "cell_type": "code",
   "execution_count": 197,
   "metadata": {},
   "outputs": [
    {
     "data": {
      "text/plain": [
       "array([1, 1, 0, 0, 1, 0, 1, 1, 0, 1, 0, 1, 0, 0, 0, 0, 0, 0, 1, 1, 1, 0,\n",
       "       0, 0, 0, 0, 0, 0, 0, 1, 1, 1, 0, 0, 1, 1, 1, 1, 0, 0, 0, 1, 0, 0,\n",
       "       0, 1, 1, 1, 1, 0, 0, 0, 1, 0, 0, 0, 1, 0, 1, 0, 1, 0, 0, 0, 1, 0,\n",
       "       1, 1, 1, 1, 0, 0, 0, 0, 1, 1, 1, 0, 0, 0, 1, 0, 0, 1, 1, 0, 1, 1,\n",
       "       0, 0, 1, 1, 1, 1, 0, 1, 0, 1, 0, 0, 1, 0, 1, 0, 0, 0, 0, 1, 1, 1,\n",
       "       0, 1, 1, 0, 0, 0, 0, 0, 1, 0, 0, 0, 1, 0, 0, 1, 1, 0, 0, 1, 0, 1,\n",
       "       0, 0, 1, 1, 1, 1, 1, 1, 1, 0, 1, 0, 1, 0, 1, 0, 1, 1, 1, 1, 0, 1,\n",
       "       1, 0, 1, 1, 0, 1, 0, 1, 1, 0, 1, 0, 0, 1, 1, 0, 1, 1, 0, 1, 1, 1,\n",
       "       0, 1, 0, 1, 1, 1, 1, 1, 1, 0, 0, 0, 0, 0, 1, 0, 1, 1, 1, 0, 0, 0,\n",
       "       1, 1], dtype=int64)"
      ]
     },
     "execution_count": 197,
     "metadata": {},
     "output_type": "execute_result"
    }
   ],
   "source": [
    "#Actual Output\n",
    "#Since there are two output neurons, this matrice consists of the correct neuron index for all 200 samples\n",
    "y"
   ]
  },
  {
   "cell_type": "code",
   "execution_count": 198,
   "metadata": {},
   "outputs": [
    {
     "data": {
      "text/plain": [
       "<matplotlib.collections.PathCollection at 0x294b71c5250>"
      ]
     },
     "execution_count": 198,
     "metadata": {},
     "output_type": "execute_result"
    },
    {
     "data": {
      "image/png": "[encoded data removed]",
      "text/plain": [
       "<Figure size 640x480 with 1 Axes>"
      ]
     },
     "metadata": {},
     "output_type": "display_data"
    }
   ],
   "source": [
    "# Syntax: plt.scatter(inputs(first feature), inputs(second feature), color)\n",
    "plt.scatter(x[:, 0], x[:, 1], c=y)"
   ]
  },
  {
   "cell_type": "code",
   "execution_count": 199,
   "metadata": {},
   "outputs": [
    {
     "name": "stdout",
     "output_type": "stream",
     "text": [
      "(200, 2)\n",
      "(200,)\n"
     ]
    }
   ],
   "source": [
    "print(x.shape) #200 samples with 2 features\n",
    "print(y.shape) #200 samples with 1 output"
   ]
  },
  {
   "cell_type": "markdown",
   "metadata": {},
   "source": [
    "<div style=\"text-align:center;\"><img src=\"./Images/scratch_nn.png\"></div>\n",
    "\n",
    "# Input Layer matrix\n",
    "200 samples with 2 features each like given below\n",
    "\n",
    "<pre>\n",
    "            Feature 1       Feature 2\n",
    "Sample 1    0.6             0.5         \n",
    "Sample 2    0.9             0.4\n",
    ".\n",
    ".\n",
    ".\n",
    "Sample 200  0.1             0.01\n",
    "</pre>\n",
    "\n",
    "\n",
    "# Input to Hidden layer weights\n",
    "\n",
    "<pre>\n",
    "            Output1         Output2         Output3\n",
    "Input1      <span style=\"color:red;\">w1              w2              w3</span>\n",
    "Input2      <span style=\"color:green;\">w4              w5              w6</span>\n",
    "\n",
    "</pre>\n",
    "\n",
    "Dot Product => 200x2 (input matrix) * 2x3 (weight matrix) = 200x3 (input to next layer)\n",
    "\n",
    "Dot Product => 200x3 (hidden layer) * 3x2 (weight matrix) = 200x2 (output layer)"
   ]
  },
  {
   "cell_type": "code",
   "execution_count": 200,
   "metadata": {},
   "outputs": [],
   "source": [
    "# Declaring Hyperparameters\n",
    "input_neurons = 2\n",
    "output_neurons = 2\n",
    "samples = x.shape[0]\n",
    "learning_rate = 0.001\n",
    "lambda_param = 0.01"
   ]
  },
  {
   "cell_type": "code",
   "execution_count": 201,
   "metadata": {},
   "outputs": [],
   "source": [
    "# Model is stored in form of a dictionary\n",
    "w1 = []\n",
    "w2 = []\n",
    "b1 =[]\n",
    "b2 = []\n",
    "model_dict = {'w1': w1, 'b1': b1, 'w2': w2, 'b2': b2}"
   ]
  },
  {
   "cell_type": "code",
   "execution_count": 202,
   "metadata": {},
   "outputs": [],
   "source": [
    "# Function to retrieve the model weights and biases\n",
    "def retreive(model_dict):\n",
    "    w1 = model_dict['w1']\n",
    "    b1 = model_dict['b1']\n",
    "    w2 = model_dict['w2']\n",
    "    b2 = model_dict['b2']\n",
    "    return w1, b1, w2, b2"
   ]
  },
  {
   "cell_type": "code",
   "execution_count": 203,
   "metadata": {},
   "outputs": [],
   "source": [
    "#Fuction for forward propagation, parameters(input, model)\n",
    "def forward(x, model_dict):\n",
    "    w1, b1, w2, b2 = retreive(model_dict)\n",
    "    z1 = x.dot(w1) + b1 #Hidden Layer\n",
    "    a1 = np.tanh(z1) #Activation Function\n",
    "\n",
    "    z2 = a1.dot(w2) + b2 #Output Layer\n",
    "\n",
    "    #Softmax Function\n",
    "    exp_scores = np.exp(z2)\n",
    "    softmax = exp_scores/np.sum(exp_scores, axis = 1, keepdims=True)\n",
    "\n",
    "    return z1, a1, softmax"
   ]
  },
  {
   "cell_type": "code",
   "execution_count": 204,
   "metadata": {},
   "outputs": [],
   "source": [
    "#Function for calculating loss (loss function => Cross Entropy Loss), paramters(predicted_out, actual_out)\n",
    "def loss(softmax, y, model_dict):\n",
    "    w1, b1, w2, b2 = retreive(model_dict)\n",
    "\n",
    "    m = np.zeros(200)\n",
    "    for i, correct_index in enumerate(y):\n",
    "        predicted = softmax[i][correct_index]\n",
    "        m[i] = predicted\n",
    "\n",
    "    log_prob = -np.log(m)\n",
    "    softmax_loss = np.sum(log_prob)\n",
    "    reg_loss = lambda_param/2 * (np.sum(np.square(w1)) + np.sum(np.square(w2))) #Regularization\n",
    "    loss = softmax_loss + reg_loss\n",
    "\n",
    "    return float(loss/y.shape[0])"
   ]
  },
  {
   "cell_type": "code",
   "execution_count": 205,
   "metadata": {},
   "outputs": [],
   "source": [
    "#Function for predicting outputs\n",
    "def predict(x, model_dict):\n",
    "    w1, b1, w2, b2 = retreive(model_dict)\n",
    "    z1 = x.dot(w1) + b1 #Hidden Layer\n",
    "    a1 = np.tanh(z1) #Activation Function\n",
    "\n",
    "    z2 = a1.dot(w2) + b2 #Output Layer\n",
    "\n",
    "    #Softmax Function\n",
    "    exp_scores = np.exp(z2)\n",
    "    softmax = exp_scores/np.sum(exp_scores, dim = 1, keepdims=True)\n",
    "\n",
    "    return np.argmax(softmax, axis=1) #This return the index of the max prediction in the sameples"
   ]
  },
  {
   "cell_type": "markdown",
   "metadata": {},
   "source": [
    "# Equation for BackPropagation\n",
    "\n",
    "![backprop](https://user-images.githubusercontent.com/30661597/67566804-3e405980-f75b-11e9-9e19-f3c388745c0a.png)\n",
    "\n",
    "<pre>A1, A2 and A3 are the output of the hidden layers</pre>\n"
   ]
  },
  {
   "cell_type": "markdown",
   "metadata": {},
   "source": [
    "## $\\frac{\\partial L}{\\partial y_{1}}=-\\tilde{y}_{1}\\left[\\frac{\\left(y_{1}\\right)^{\\prime}}{y_{1}}\\right]=-\\tilde{y}_{1}\\left[\\frac{1}{y_{1}}\\right]$\n",
    "\n",
    "## $\\frac{\\partial y_{1}}{\\partial z_{1}}=\\frac{\\partial}{\\partial z_{1}} \\cdot \\frac{e^{z_{1}}}{e^{z_{1}}+e^{z_{2}}+e^{z_{3}}}$\n",
    "\n",
    "<pre>Derivative of y1</pre>\n",
    "![der](https://user-images.githubusercontent.com/46392773/56460220-ec94cc00-63d1-11e9-91d1-b4e3c57c81fd.png)\n",
    "\n",
    "## $\\frac{\\partial L}{\\partial y_{1}} \\frac{\\partial y_{1}}{\\partial z_{1}}=-\\tilde{y}_{1}\\left[\\frac{1}{y_{1}}\\right]\\frac{\\partial y_{1}}{\\partial z_{1}}=-\\tilde{y}_{1}\\left[\\frac{y_{1}\\left(1-y_{1}\\right)}{y_{1}}\\right]=-\\tilde{y}_{1}\\left(1-y_{1}\\right)$\n",
    "\n",
    "\n",
    "Recall that our labels are in the form of a one-hot vector: (ex. If class 1 is correct, then the corresponding label is [1,0], if class 2 is correct, then the corresponding label is [0,1]).\n",
    "\n",
    "If class one is the actual prediction: $\\tilde{y}_{1} = 1 $, then we have:\n",
    "\n",
    "\n",
    "## $\\frac{\\partial L}{\\partial y_{1}} \\frac{\\partial y_{1}}{\\partial z_{1}} = -1(1-y_{1}) = y_{1} - 1 = \\delta_{3}$\n",
    "\n"
   ]
  },
  {
   "cell_type": "markdown",
   "metadata": {},
   "source": [
    "## $\\delta_{2}=\\left(1-\\tanh ^{2} z_{1}\\right) \\circ \\delta_{3} W_{2}^{T}$"
   ]
  },
  {
   "cell_type": "markdown",
   "metadata": {},
   "source": [
    "## $\\frac{\\partial L}{\\partial W_{2}}=a_{1}^{T} \\delta_{3}$"
   ]
  },
  {
   "cell_type": "markdown",
   "metadata": {},
   "source": [
    "## $\\frac{\\partial L}{\\partial b_{2}}=\\delta_{3}$"
   ]
  },
  {
   "cell_type": "markdown",
   "metadata": {},
   "source": [
    "## $\\frac{\\partial L}{\\partial W_{1}}=x^{T} \\delta 2$"
   ]
  },
  {
   "cell_type": "markdown",
   "metadata": {},
   "source": [
    "## $\\frac{\\partial L}{\\partial b_{1}}=\\delta 2$"
   ]
  },
  {
   "cell_type": "code",
   "execution_count": 206,
   "metadata": {},
   "outputs": [],
   "source": [
    "#Function for backpropagation, parameters(input, actual_labels, model, epochs)\n",
    "def backpropagation(x, y, model_dict, epochs):\n",
    "    for i in range(epochs):\n",
    "        w1, b1, w2, b2 = retreive(model_dict)\n",
    "        z1, a1, probs = forward(x, model_dict)\n",
    "        \n",
    "        delta3 = np.copy(probs)\n",
    "        delta3[range(x.shape[0]), y] -= 1 #Extracts out predicted values of the expected class (delta3 = probs - 1)\n",
    "        dw2 = (a1.T).dot(delta3) #a1: (200x3)shape dot (200x2) = (3x2)\n",
    "        db2 = np.sum(delta3, axis=0, keepdims=True) #(1x2)\n",
    "\n",
    "        delta2 = delta3.dot(w2.T) * (1 - np.power(np.tanh(z1), 2))\n",
    "        dw1 = np.dot(x.T, delta2)\n",
    "        db1 = np.sum(delta2, axis=0)\n",
    "\n",
    "        #Add reqularization\n",
    "        dw2 += lambda_param * np.sum(w2)\n",
    "        dw1 += lambda_param * np.sum(w1)\n",
    "\n",
    "        #Update weights\n",
    "        w1 += -learning_rate * dw1  #W = W + (-learning_rate * gradient)\n",
    "        b1 += -learning_rate * db1\n",
    "        w2 += -learning_rate * dw2\n",
    "        b2 += -learning_rate * db2\n",
    "\n",
    "        #Update dictionary\n",
    "        model_dict = {'w1': w1, \"b1\": b1, \"w2\": w2, \"b2\": b2}\n",
    "\n",
    "        #Print loss every 50 epochs\n",
    "        if i%50 == 0:\n",
    "            print(\"Loss at epoch {} is : {:3f}\".format(i, loss(probs, y, model_dict)))\n",
    "\n",
    "    return model_dict"
   ]
  },
  {
   "cell_type": "code",
   "execution_count": 207,
   "metadata": {},
   "outputs": [],
   "source": [
    "# Define Initial Weights\n",
    "def init_network(input_dim, hidden_dim, output_dim):\n",
    "    model = {}\n",
    "    # Xavier Initialization \n",
    "    W1 = np.random.randn(input_dim, hidden_dim) / np.sqrt(input_dim)\n",
    "    b1 = np.zeros((1, hidden_dim))\n",
    "    W2 = np.random.randn(hidden_dim, output_dim) / np.sqrt(hidden_dim)\n",
    "    b2 = np.zeros((1, output_dim))\n",
    "    model['w1'] = W1\n",
    "    model['b1'] = b1\n",
    "    model['w2'] = W2\n",
    "    model['b2'] = b2\n",
    "    return model"
   ]
  },
  {
   "cell_type": "code",
   "execution_count": 208,
   "metadata": {},
   "outputs": [
    {
     "name": "stdout",
     "output_type": "stream",
     "text": [
      "Loss at epoch 0 is : 0.826372\n",
      "Loss at epoch 50 is : 0.344833\n",
      "Loss at epoch 100 is : 0.293255\n",
      "Loss at epoch 150 is : 0.282682\n",
      "Loss at epoch 200 is : 0.277456\n",
      "Loss at epoch 250 is : 0.271720\n",
      "Loss at epoch 300 is : 0.264053\n",
      "Loss at epoch 350 is : 0.254123\n",
      "Loss at epoch 400 is : 0.242113\n",
      "Loss at epoch 450 is : 0.228714\n",
      "Loss at epoch 500 is : 0.214875\n",
      "Loss at epoch 550 is : 0.201394\n",
      "Loss at epoch 600 is : 0.188751\n",
      "Loss at epoch 650 is : 0.177164\n",
      "Loss at epoch 700 is : 0.166687\n",
      "Loss at epoch 750 is : 0.157276\n",
      "Loss at epoch 800 is : 0.148833\n",
      "Loss at epoch 850 is : 0.141232\n",
      "Loss at epoch 900 is : 0.134335\n",
      "Loss at epoch 950 is : 0.128000\n"
     ]
    }
   ],
   "source": [
    "model_dict = init_network(input_dim = input_neurons , hidden_dim = 3, output_dim = output_neurons)\n",
    "model = backpropagation(x, y, model_dict, 1000)"
   ]
  }
 ],
 "metadata": {
  "kernelspec": {
   "display_name": "Python 3 (ipykernel)",
   "language": "python",
   "name": "python3"
  }
 },
 "nbformat": 4,
 "nbformat_minor": 2
}
