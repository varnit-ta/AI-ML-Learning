{
 "cells": [
  {
   "cell_type": "markdown",
   "metadata": {},
   "source": [
    "# Creating a Neural Network from scratch\n",
    "The Neural Network consists of a input and output layers consisting of 2 neurons and a single hidden layer with 3 neurons"
   ]
  },
  {
   "cell_type": "code",
   "execution_count": 19,
   "metadata": {},
   "outputs": [],
   "source": [
    "import numpy as np\n",
    "import matplotlib.pyplot as plt\n",
    "import sklearn.datasets"
   ]
  },
  {
   "cell_type": "code",
   "execution_count": 20,
   "metadata": {},
   "outputs": [],
   "source": [
    "# X - > Inputs and Y -> Expected outputs\n",
    "x, y = sklearn.datasets.make_moons(200, noise=0.15) # 200 samples with 15% noise"
   ]
  },
  {
   "cell_type": "code",
   "execution_count": 21,
   "metadata": {},
   "outputs": [
    {
     "data": {
      "text/plain": [
       "array([[-9.34945887e-01,  9.54594954e-02],\n",
       "       [ 1.91108728e+00,  1.69734556e-03],\n",
       "       [ 8.64570723e-01,  8.60568435e-01],\n",
       "       [-6.88038730e-01,  6.68618520e-01],\n",
       "       [ 7.60186882e-01,  6.70359282e-01],\n",
       "       [ 1.66975669e+00, -6.55784225e-02],\n",
       "       [ 5.15787804e-01,  6.18201499e-01],\n",
       "       [-1.02235745e+00,  1.90199621e-01],\n",
       "       [ 2.02824108e-01, -1.66303123e-01],\n",
       "       [ 4.92046776e-01,  8.30884175e-01],\n",
       "       [-8.73226533e-01,  1.31066689e-01],\n",
       "       [-8.23747986e-01,  1.21034005e-01],\n",
       "       [ 1.90303358e-01,  7.90372263e-01],\n",
       "       [ 1.94605684e-01,  9.80648990e-01],\n",
       "       [ 1.79222067e+00,  4.30746841e-01],\n",
       "       [ 1.96820208e+00, -7.86059205e-02],\n",
       "       [-9.37638063e-02,  7.49383959e-02],\n",
       "       [ 4.73346792e-01,  6.22785215e-01],\n",
       "       [ 1.70012461e+00, -2.00580763e-01],\n",
       "       [ 1.86076797e+00, -2.98451898e-01],\n",
       "       [ 7.38656641e-01, -2.94111793e-01],\n",
       "       [ 9.50380587e-01,  4.59710386e-01],\n",
       "       [ 1.23535825e+00, -4.15626436e-01],\n",
       "       [ 1.09334593e+00,  4.84151175e-01],\n",
       "       [-8.32979915e-01, -1.03576425e-01],\n",
       "       [ 1.17930062e-01,  1.76735981e-01],\n",
       "       [-7.03547848e-01,  2.84970678e-01],\n",
       "       [ 1.01784346e+00,  8.18957373e-02],\n",
       "       [ 4.70193537e-01, -4.43702440e-01],\n",
       "       [-5.00275640e-01,  9.16454227e-01],\n",
       "       [-8.94464186e-01,  5.33366982e-01],\n",
       "       [ 1.61649340e+00, -3.06018388e-01],\n",
       "       [-8.58409606e-01,  3.49062842e-01],\n",
       "       [-6.43162845e-01,  9.04887686e-01],\n",
       "       [ 1.89578438e-02,  3.34217546e-02],\n",
       "       [ 1.20763698e+00,  2.95298558e-01],\n",
       "       [-9.22634716e-01,  3.88892952e-01],\n",
       "       [ 2.20793269e+00,  2.50735096e-01],\n",
       "       [ 1.36311673e+00, -6.79386240e-01],\n",
       "       [ 2.28566211e-01, -1.16468826e-01],\n",
       "       [ 1.86946526e+00,  2.90515286e-01],\n",
       "       [ 7.79178004e-01,  6.31835246e-01],\n",
       "       [ 1.01990984e-01,  5.69549994e-01],\n",
       "       [ 1.94948411e-01, -1.06685663e-01],\n",
       "       [ 1.71131390e+00, -1.77292239e-01],\n",
       "       [-5.59446405e-02,  9.69552490e-01],\n",
       "       [ 1.11148519e+00, -5.57238148e-01],\n",
       "       [-1.06776422e-01,  1.05177628e-01],\n",
       "       [ 8.22378984e-01,  1.31173483e-01],\n",
       "       [-4.61921998e-01,  8.92652741e-01],\n",
       "       [ 4.67944651e-02,  1.14149885e+00],\n",
       "       [ 1.91760475e+00, -2.68463789e-01],\n",
       "       [ 1.05221831e-01, -2.80477527e-01],\n",
       "       [ 1.22218910e+00, -4.50153118e-01],\n",
       "       [ 2.07627876e+00,  3.23836994e-01],\n",
       "       [ 3.39648049e-01, -2.84258349e-01],\n",
       "       [-8.89110314e-01,  2.81443527e-01],\n",
       "       [ 7.86504512e-01,  2.44354941e-01],\n",
       "       [-2.60661758e-01,  1.00205830e+00],\n",
       "       [-9.13009039e-02, -3.63717945e-04],\n",
       "       [ 4.44995545e-01,  9.50867648e-01],\n",
       "       [-5.90007700e-01,  6.51704600e-01],\n",
       "       [ 1.14791159e-02,  1.41688801e-01],\n",
       "       [-4.87256607e-01,  9.16032267e-01],\n",
       "       [ 1.55693030e+00, -3.74054515e-01],\n",
       "       [ 4.07219243e-01,  1.12914255e+00],\n",
       "       [ 5.94545905e-01, -3.76765812e-01],\n",
       "       [-7.38435556e-01,  6.18327487e-01],\n",
       "       [ 2.08460354e-01, -1.46995738e-01],\n",
       "       [-6.84159902e-01,  9.96648314e-01],\n",
       "       [-6.89395380e-01,  9.67155893e-01],\n",
       "       [ 3.46724412e-01,  8.94684849e-01],\n",
       "       [ 1.90840658e+00,  5.56903578e-01],\n",
       "       [ 1.84239145e+00,  7.84055583e-02],\n",
       "       [-2.05544338e-01,  9.22463879e-01],\n",
       "       [-9.27134643e-01,  3.39948421e-01],\n",
       "       [ 6.69355973e-01, -5.02248510e-01],\n",
       "       [ 9.03338140e-01,  5.78185387e-01],\n",
       "       [-5.51567892e-01,  1.10764123e+00],\n",
       "       [ 3.46364735e-01,  7.25928087e-01],\n",
       "       [ 1.56605867e-01, -4.14719409e-01],\n",
       "       [ 4.69174427e-01, -4.98602154e-01],\n",
       "       [ 1.45834433e+00, -3.80054441e-01],\n",
       "       [ 6.47185867e-01, -6.53226669e-01],\n",
       "       [ 4.79215547e-01, -2.01685767e-01],\n",
       "       [ 1.29918383e+00, -3.87527275e-01],\n",
       "       [ 9.25286249e-01,  1.96131599e-01],\n",
       "       [ 8.51841877e-01,  5.58857906e-01],\n",
       "       [ 7.09075413e-01,  3.10880929e-01],\n",
       "       [ 1.14625176e+00, -5.21311524e-01],\n",
       "       [ 5.43179273e-01,  8.15081847e-01],\n",
       "       [ 1.50972753e+00, -4.42962087e-01],\n",
       "       [ 1.55428161e+00, -1.98611315e-01],\n",
       "       [ 5.85019346e-01, -4.09881010e-01],\n",
       "       [ 8.67284042e-01, -1.68751800e-01],\n",
       "       [ 4.37910601e-01,  1.10758826e+00],\n",
       "       [ 2.38552427e-01, -1.27161939e-01],\n",
       "       [ 2.30050939e+00,  5.40221805e-01],\n",
       "       [-6.88138225e-01,  3.85421484e-01],\n",
       "       [ 1.43983717e-01,  1.01474463e+00],\n",
       "       [ 2.65655691e-01,  1.01785704e+00],\n",
       "       [-4.15590272e-01,  9.82792890e-01],\n",
       "       [-7.31761472e-01,  5.89536156e-01],\n",
       "       [ 1.93720909e+00,  4.76640468e-02],\n",
       "       [ 7.97608303e-01,  4.93982198e-01],\n",
       "       [ 3.57360100e-01, -3.79690451e-01],\n",
       "       [ 9.21967697e-01,  3.88922219e-02],\n",
       "       [ 2.36206040e-01,  5.17213146e-01],\n",
       "       [ 2.62660286e-01, -1.73894743e-01],\n",
       "       [ 2.40724789e-01,  6.59827855e-01],\n",
       "       [ 3.01955372e-01,  1.04493621e+00],\n",
       "       [-6.87375673e-01,  8.38966528e-01],\n",
       "       [ 5.79260197e-01,  8.46569880e-01],\n",
       "       [-2.34495910e-01,  1.23592340e+00],\n",
       "       [ 1.18037556e+00, -1.53018355e-01],\n",
       "       [-7.03772845e-01,  7.65012296e-01],\n",
       "       [ 1.34832477e+00, -7.81645973e-01],\n",
       "       [ 1.97928314e+00,  2.87063755e-01],\n",
       "       [ 1.10255012e+00, -1.83127493e-01],\n",
       "       [ 9.51035364e-01,  3.68138077e-01],\n",
       "       [ 8.39602624e-01, -6.72294469e-01],\n",
       "       [-5.29675806e-01,  7.97447981e-01],\n",
       "       [ 8.57371827e-01,  7.54670679e-01],\n",
       "       [ 1.37563403e+00, -4.97992296e-01],\n",
       "       [ 1.90039989e+00,  3.13001593e-02],\n",
       "       [ 1.28536200e+00, -4.99208460e-01],\n",
       "       [ 1.01082533e-02,  1.19755088e+00],\n",
       "       [-5.60327027e-01,  2.42858063e-01],\n",
       "       [-1.86462198e-02, -1.10247799e-01],\n",
       "       [-5.11686978e-01,  6.51938956e-01],\n",
       "       [ 1.93766503e+00,  2.37241024e-01],\n",
       "       [ 2.44723220e-01,  9.87712363e-01],\n",
       "       [ 9.93428731e-01,  3.13075978e-01],\n",
       "       [ 6.43907148e-01,  1.10630129e+00],\n",
       "       [-9.02899973e-01,  3.62014365e-01],\n",
       "       [ 1.09802453e+00, -3.23921330e-01],\n",
       "       [ 7.81544352e-01,  8.19977014e-01],\n",
       "       [ 6.98396500e-01,  7.57432907e-01],\n",
       "       [-6.99173893e-02,  4.67779074e-01],\n",
       "       [ 4.54384644e-01,  8.77706338e-01],\n",
       "       [ 4.42915869e-01,  3.89119853e-01],\n",
       "       [ 9.83879822e-01, -5.46474601e-01],\n",
       "       [ 1.75295751e+00, -3.34563868e-01],\n",
       "       [ 1.76915006e-01,  4.90650258e-01],\n",
       "       [ 1.97565890e+00, -1.71166642e-01],\n",
       "       [ 1.94026919e+00, -1.93899970e-01],\n",
       "       [ 1.08524114e+00,  6.39906120e-01],\n",
       "       [-1.20834169e-01,  1.06982167e+00],\n",
       "       [ 2.92130561e-01, -4.29943941e-01],\n",
       "       [ 1.57979654e+00, -3.71545229e-01],\n",
       "       [ 6.45318947e-02,  4.14147082e-01],\n",
       "       [-1.08846654e-01,  8.06168049e-01],\n",
       "       [-8.96972276e-01,  1.27605141e-01],\n",
       "       [ 1.19986083e+00, -4.72029765e-01],\n",
       "       [-9.81823826e-02,  1.19196440e+00],\n",
       "       [ 4.68055490e-01, -2.68858478e-01],\n",
       "       [ 2.08564111e+00, -2.88973570e-01],\n",
       "       [ 1.78312359e+00,  6.41541431e-02],\n",
       "       [ 7.67370358e-01, -3.00532953e-01],\n",
       "       [-1.80046017e-01,  8.20947663e-01],\n",
       "       [ 1.44116702e+00, -3.63522749e-01],\n",
       "       [ 9.14868654e-01,  5.50756020e-01],\n",
       "       [ 2.03261389e+00,  4.53916527e-01],\n",
       "       [ 2.04614644e+00,  5.19216928e-02],\n",
       "       [-6.55793896e-01,  4.80094734e-01],\n",
       "       [-1.13277530e+00,  5.82912746e-01],\n",
       "       [ 9.77769430e-03,  3.15637202e-02],\n",
       "       [ 2.09565640e+00,  2.58456618e-01],\n",
       "       [-1.07200316e+00,  2.91275778e-01],\n",
       "       [ 2.08529914e+00,  4.25867509e-01],\n",
       "       [ 6.73977095e-01,  9.79689038e-01],\n",
       "       [ 1.59924942e+00, -7.46804334e-02],\n",
       "       [ 8.47413317e-01,  2.47676073e-01],\n",
       "       [-6.65993072e-01,  1.21254777e+00],\n",
       "       [ 8.07370839e-02,  1.59940529e-01],\n",
       "       [ 8.25062169e-01,  6.05289227e-01],\n",
       "       [ 2.18453316e-01,  9.05981760e-01],\n",
       "       [-8.60667817e-01,  8.70393469e-01],\n",
       "       [-6.13676692e-01,  6.43800629e-01],\n",
       "       [ 1.85493437e-01,  8.16890497e-02],\n",
       "       [-5.38274076e-01,  9.65437901e-01],\n",
       "       [-1.06534483e+00,  7.56289899e-01],\n",
       "       [ 9.29709573e-01,  8.10595740e-02],\n",
       "       [ 5.32393546e-01, -5.70862713e-02],\n",
       "       [ 1.47773668e+00, -3.95037749e-01],\n",
       "       [ 2.10740089e+00, -4.72194530e-02],\n",
       "       [ 1.26128899e-01,  6.74943521e-02],\n",
       "       [ 6.65177915e-01, -2.11814718e-01],\n",
       "       [ 5.26949565e-01, -3.54753145e-01],\n",
       "       [ 7.69001150e-01, -3.69383379e-01],\n",
       "       [-1.06024281e+00,  3.36633130e-01],\n",
       "       [-9.47264183e-01,  4.24015122e-01],\n",
       "       [ 1.01106800e+00, -4.34732957e-01],\n",
       "       [ 5.94674788e-01,  8.16004626e-01],\n",
       "       [-1.82081567e-02, -3.95601350e-01],\n",
       "       [ 1.72589741e-01,  1.27710016e+00],\n",
       "       [ 7.44849758e-01, -4.70243571e-02],\n",
       "       [ 1.35494060e+00, -5.61204526e-01],\n",
       "       [ 9.66021461e-01, -3.97154037e-01],\n",
       "       [-2.68209850e-01,  8.56011356e-01]])"
      ]
     },
     "execution_count": 21,
     "metadata": {},
     "output_type": "execute_result"
    }
   ],
   "source": [
    "x"
   ]
  },
  {
   "cell_type": "code",
   "execution_count": 22,
   "metadata": {},
   "outputs": [
    {
     "data": {
      "text/plain": [
       "array([0, 1, 0, 0, 0, 1, 0, 0, 1, 0, 0, 0, 1, 0, 1, 1, 1, 0, 1, 1, 1, 0,\n",
       "       1, 0, 0, 1, 0, 0, 1, 0, 0, 1, 0, 0, 1, 0, 0, 1, 1, 1, 1, 0, 1, 1,\n",
       "       1, 0, 1, 1, 0, 0, 0, 1, 1, 1, 1, 1, 0, 0, 0, 1, 0, 0, 1, 0, 1, 0,\n",
       "       1, 0, 1, 0, 0, 0, 1, 1, 0, 0, 1, 0, 0, 0, 1, 1, 1, 1, 1, 1, 0, 0,\n",
       "       0, 1, 0, 1, 1, 1, 1, 0, 1, 1, 0, 0, 0, 0, 0, 1, 0, 1, 0, 1, 1, 1,\n",
       "       0, 0, 0, 0, 1, 0, 1, 1, 0, 0, 1, 0, 0, 1, 1, 1, 0, 0, 1, 0, 1, 0,\n",
       "       0, 0, 0, 1, 0, 0, 1, 0, 0, 1, 1, 1, 1, 1, 0, 0, 1, 1, 1, 0, 0, 1,\n",
       "       0, 1, 1, 1, 1, 0, 1, 0, 1, 1, 0, 0, 1, 1, 0, 1, 0, 1, 0, 0, 1, 0,\n",
       "       0, 0, 0, 1, 0, 0, 0, 1, 1, 1, 1, 1, 1, 1, 0, 0, 1, 0, 1, 0, 1, 1,\n",
       "       1, 0], dtype=int64)"
      ]
     },
     "execution_count": 22,
     "metadata": {},
     "output_type": "execute_result"
    }
   ],
   "source": [
    "#Actual Output\n",
    "#Since there are two output neurons, this matrice consists of the correct neuron index for all 200 samples\n",
    "y"
   ]
  },
  {
   "cell_type": "code",
   "execution_count": 23,
   "metadata": {},
   "outputs": [
    {
     "data": {
      "text/plain": [
       "<matplotlib.collections.PathCollection at 0x2c51699fc90>"
      ]
     },
     "execution_count": 23,
     "metadata": {},
     "output_type": "execute_result"
    },
    {
     "data": {
      "image/png": "[encoded data removed]",
      "text/plain": [
       "<Figure size 640x480 with 1 Axes>"
      ]
     },
     "metadata": {},
     "output_type": "display_data"
    }
   ],
   "source": [
    "# Syntax: plt.scatter(inputs(first feature), inputs(second feature), color)\n",
    "plt.scatter(x[:, 0], x[:, 1], c=y)"
   ]
  },
  {
   "cell_type": "code",
   "execution_count": 24,
   "metadata": {},
   "outputs": [
    {
     "name": "stdout",
     "output_type": "stream",
     "text": [
      "(200, 2)\n",
      "(200,)\n"
     ]
    }
   ],
   "source": [
    "print(x.shape) #200 samples with 2 features\n",
    "print(y.shape) #200 samples with 1 output"
   ]
  },
  {
   "cell_type": "markdown",
   "metadata": {},
   "source": [
    "<div style=\"text-align:center;\"><img src=\"./Images/scratch_nn.png\"></div>\n",
    "\n",
    "# Input Layer matrix\n",
    "200 samples with 2 features each like given below\n",
    "\n",
    "<pre>\n",
    "            Feature 1       Feature 2\n",
    "Sample 1    0.6             0.5         \n",
    "Sample 2    0.9             0.4\n",
    ".\n",
    ".\n",
    ".\n",
    "Sample 200  0.1             0.01\n",
    "</pre>\n",
    "\n",
    "\n",
    "# Input to Hidden layer weights\n",
    "\n",
    "<pre>\n",
    "            Output1         Output2         Output3\n",
    "Input1      <span style=\"color:red;\">w1              w2              w3</span>\n",
    "Input2      <span style=\"color:green;\">w4              w5              w6</span>\n",
    "\n",
    "</pre>\n",
    "\n",
    "Dot Product => 200x2 (input matrix) * 2x3 (weight matrix) = 200x3 (input to next layer)\n",
    "\n",
    "Dot Product => 200x3 (hidden layer) * 3x2 (weight matrix) = 200x2 (output layer)"
   ]
  },
  {
   "cell_type": "code",
   "execution_count": 25,
   "metadata": {},
   "outputs": [],
   "source": [
    "# Declaring Hyperparameters\n",
    "input_neurons = 2\n",
    "output_neurons = 2\n",
    "samples = x.shape[0]\n",
    "learning_rate = 0.001\n",
    "lambda_param = 0.01"
   ]
  },
  {
   "cell_type": "code",
   "execution_count": 26,
   "metadata": {},
   "outputs": [],
   "source": [
    "# Model is stored in form of a dictionary\n",
    "w1 = []\n",
    "w2 = []\n",
    "b1 =[]\n",
    "b2 = []\n",
    "model_dict = {'w1': w1, 'b1': b1, 'w2': w2, 'b2': b2}"
   ]
  },
  {
   "cell_type": "code",
   "execution_count": 27,
   "metadata": {},
   "outputs": [],
   "source": [
    "# Function to retrieve the model weights and biases\n",
    "def retreive(model_dict):\n",
    "    w1 = model_dict['w1']\n",
    "    b1 = model_dict['b1']\n",
    "    w2 = model_dict['w2']\n",
    "    b2 = model_dict['b2']\n",
    "    return w1, b1, w2, b2"
   ]
  },
  {
   "cell_type": "code",
   "execution_count": 28,
   "metadata": {},
   "outputs": [],
   "source": [
    "#Fuction for forward propagation, parameters(input, model)\n",
    "def forward(x, model_dict):\n",
    "    w1, b1, w2, b2 = retreive(model_dict)\n",
    "    z1 = x.dot(w1) + b1 #Hidden Layer\n",
    "    a1 = np.tanh(z1) #Activation Function\n",
    "\n",
    "    z2 = a1.dot(w2) + b2 #Output Layer\n",
    "    a2 = np.tanh(z2) #Activation Function\n",
    "\n",
    "    #Softmax Function\n",
    "    exp_scores = np.exp(a2)\n",
    "    softmax = exp_scores/np.sum(exp_scores, dim = 1, keepdims=True)\n",
    "\n",
    "    return z1, a1, softmax"
   ]
  },
  {
   "cell_type": "code",
   "execution_count": 29,
   "metadata": {},
   "outputs": [],
   "source": [
    "#Function for calculating loss (loss function => Cross Entropy Loss), paramters(predicted_out, actual_out)\n",
    "def loss(softmax, y, model_dict):\n",
    "    w1, b1, w2, b2 = retreive(model_dict)\n",
    "\n",
    "    m = np.zeros(200)\n",
    "    for i, correct_index in enumerate(y):\n",
    "        predicted = softmax[i][correct_index]\n",
    "        m[i] = predicted\n",
    "\n",
    "    log_prob = -np.log(predicted)\n",
    "    softmax_loss = np.sum(log_prob)\n",
    "    reg_loss = lambda_param/2 * (np.sum(np.square(w1)) + np.sum(np.square(w2))) #Regularization\n",
    "    loss = softmax_loss + reg_loss\n",
    "\n",
    "    return float(loss/y.shape[0])"
   ]
  },
  {
   "cell_type": "code",
   "execution_count": 30,
   "metadata": {},
   "outputs": [],
   "source": [
    "#Function for predicting outputs\n",
    "def predict(x, model_dict):\n",
    "    w1, b1, w2, b2 = retreive(model_dict)\n",
    "    z1 = x.dot(w1) + b1 #Hidden Layer\n",
    "    a1 = np.tanh(z1) #Activation Function\n",
    "\n",
    "    z2 = a1.dot(w2) + b2 #Output Layer\n",
    "    a2 = np.tanh(z2) #Activation Function\n",
    "\n",
    "    #Softmax Function\n",
    "    exp_scores = np.exp(a2)\n",
    "    softmax = exp_scores/np.sum(exp_scores, dim = 1, keepdims=True)\n",
    "\n",
    "    return np.argmax(softmax, axis=1) #This return the index of the max prediction in the sameples"
   ]
  },
  {
   "cell_type": "markdown",
   "metadata": {},
   "source": [
    "# Equation for BackPropagation\n",
    "\n",
    "![backprop](https://user-images.githubusercontent.com/30661597/67566804-3e405980-f75b-11e9-9e19-f3c388745c0a.png)\n",
    "\n",
    "<pre>A1, A2 and A3 are the output of the hidden layers</pre>\n"
   ]
  },
  {
   "cell_type": "markdown",
   "metadata": {},
   "source": [
    "## $\\frac{\\partial L}{\\partial y_{1}}=-\\tilde{y}_{1}\\left[\\frac{\\left(y_{1}\\right)^{\\prime}}{y_{1}}\\right]=-\\tilde{y}_{1}\\left[\\frac{1}{y_{1}}\\right]$\n",
    "\n",
    "## $\\frac{\\partial y_{1}}{\\partial z_{1}}=\\frac{\\partial}{\\partial z_{1}} \\cdot \\frac{e^{z_{1}}}{e^{z_{1}}+e^{z_{2}}+e^{z_{3}}}$\n",
    "\n",
    "<pre>Derivative of y1</pre>\n",
    "![der](https://user-images.githubusercontent.com/46392773/56460220-ec94cc00-63d1-11e9-91d1-b4e3c57c81fd.png)\n",
    "\n",
    "## $\\frac{\\partial L}{\\partial y_{1}} \\frac{\\partial y_{1}}{\\partial z_{1}}=-\\tilde{y}_{1}\\left[\\frac{1}{y_{1}}\\right]\\frac{\\partial y_{1}}{\\partial z_{1}}=-\\tilde{y}_{1}\\left[\\frac{y_{1}\\left(1-y_{1}\\right)}{y_{1}}\\right]=-\\tilde{y}_{1}\\left(1-y_{1}\\right)$\n",
    "\n",
    "\n",
    "Recall that our labels are in the form of a one-hot vector: (ex. If class 1 is correct, then the corresponding label is [1,0], if class 2 is correct, then the corresponding label is [0,1]).\n",
    "\n",
    "If class one is the actual prediction: $\\tilde{y}_{1} = 1 $, then we have:\n",
    "\n",
    "\n",
    "## $\\frac{\\partial L}{\\partial y_{1}} \\frac{\\partial y_{1}}{\\partial z_{1}} = -1(1-y_{1}) = y_{1} - 1 = \\delta_{3}$\n",
    "\n"
   ]
  },
  {
   "cell_type": "markdown",
   "metadata": {},
   "source": [
    "## $\\delta_{2}=\\left(1-\\tanh ^{2} z_{1}\\right) \\circ \\delta_{3} W_{2}^{T}$"
   ]
  },
  {
   "cell_type": "markdown",
   "metadata": {},
   "source": [
    "## $\\frac{\\partial L}{\\partial W_{2}}=a_{1}^{T} \\delta_{3}$"
   ]
  },
  {
   "cell_type": "markdown",
   "metadata": {},
   "source": [
    "## $\\frac{\\partial L}{\\partial b_{2}}=\\delta_{3}$"
   ]
  },
  {
   "cell_type": "markdown",
   "metadata": {},
   "source": [
    "## $\\frac{\\partial L}{\\partial W_{1}}=x^{T} \\delta 2$"
   ]
  },
  {
   "cell_type": "markdown",
   "metadata": {},
   "source": [
    "## $\\frac{\\partial L}{\\partial b_{1}}=\\delta 2$"
   ]
  },
  {
   "cell_type": "code",
   "execution_count": 31,
   "metadata": {},
   "outputs": [],
   "source": [
    "#Function for backpropagation, parameters(input, actual_labels, model, epochs)\n",
    "def backpropagation(x, y, model_dict, epochs):\n",
    "    for i in range(epochs):\n",
    "        w1, b1, w2, b2 = retreive(model_dict)\n",
    "        z1, a1, probs = forward(x, model_dict)\n",
    "        \n",
    "        delta3 = np.copy(probs)\n",
    "        delta3[range(x.shape[0]), y] -= 1 #Extracts out predicted values of the expected class (delta3 = probs - 1)\n",
    "        dw2 = (a1.T).dot(delta3) #a1: (200x3)shape dot (200x2) = (3x2)\n",
    "        db2 = np.sum(delta3, axis=0, keepdims=True) #(1x2)\n",
    "\n",
    "        delta2 = delta3.dot(w2.T) * (1 - np.power(np.tanh(z1), 2))\n",
    "        dw1 = np.dot(x.T, delta2)\n",
    "        db1 = np.sum(delta2, axis=0)\n",
    "\n",
    "        #Add reqularization\n",
    "        dw2 += lambda_param * np.sum(w2)\n",
    "        dw1 += lambda_param * np.sum(w1)\n",
    "\n",
    "        #Update weights\n",
    "        w1 += -learning_rate * dw1  #W = W + (-learning_rate * gradient)\n",
    "        b1 += -learning_rate * db1\n",
    "        w2 += -learning_rate * dw2\n",
    "        b2 += -learning_rate * db2\n",
    "\n",
    "        #Update dictionary\n",
    "        model_dict = {'w1': w1, \"b1\": b1, \"w2\": w2, \"b2\": b2}\n",
    "\n",
    "        #Print loss every 50 epochs\n",
    "        if i%50 == 0:\n",
    "            print(\"Loss at epoch {} is : {:3f}\".format(i, loss(probs, y, model_dict)))\n",
    "\n",
    "    return model_dict"
   ]
  },
  {
   "cell_type": "code",
   "execution_count": null,
   "metadata": {},
   "outputs": [],
   "source": [
    "#Function to initialise weights (Technique => Xavier Initialization), parameter(no_of_input_neuron, no_of_hidden_neuron, no_of_output_neuron)\n",
    "def init_network(input_dim, hidden_dim, output_dim):\n",
    "    model = {}\n",
    "    w1 = np.random.randn(input_dim, hidden_dim) \n",
    "    b1 = np.random.randn(1, hidden_dim) \n",
    "    w2 = np.random.randn(hidden_dim, output_dim) \n",
    "    b2 = np.random.randn(1, output_dim)\n"
   ]
  }
 ],
 "metadata": {
  "kernelspec": {
   "display_name": "Python 3 (ipykernel)",
   "language": "python",
   "name": "python3"
  },
  "language_info": {
   "codemirror_mode": {
    "name": "ipython",
    "version": 3
   },
   "file_extension": ".py",
   "mimetype": "text/x-python",
   "name": "python",
   "nbconvert_exporter": "python",
   "pygments_lexer": "ipython3",
   "version": "3.11.5"
  }
 },
 "nbformat": 4,
 "nbformat_minor": 2
}
