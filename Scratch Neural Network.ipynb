{
 "cells": [
  {
   "cell_type": "markdown",
   "metadata": {},
   "source": [
    "# Creating a Neural Network from scratch\n",
    "The Neural Network consists of a input and output layers consisting of 2 neurons and a single hidden layer with 3 neurons"
   ]
  },
  {
   "cell_type": "code",
   "execution_count": 179,
   "metadata": {},
   "outputs": [],
   "source": [
    "import numpy as np\n",
    "import matplotlib.pyplot as plt\n",
    "import sklearn.datasets"
   ]
  },
  {
   "cell_type": "code",
   "execution_count": 180,
   "metadata": {},
   "outputs": [],
   "source": [
    "# X - > Inputs and Y -> Expected outputs\n",
    "x, y = sklearn.datasets.make_moons(200, noise=0.15) # 200 samples with 15% noise"
   ]
  },
  {
   "cell_type": "code",
   "execution_count": 181,
   "metadata": {},
   "outputs": [
    {
     "data": {
      "text/plain": [
       "array([[ 1.27981084,  0.24183953],\n",
       "       [ 0.42656797,  1.10510542],\n",
       "       [ 2.01578383,  0.0415408 ],\n",
       "       [-0.78658214,  0.64172294],\n",
       "       [ 1.17666701,  0.26220539],\n",
       "       [ 1.71594625, -0.46432471],\n",
       "       [ 0.19160783,  0.2005382 ],\n",
       "       [-0.16633358,  1.04228359],\n",
       "       [-0.92840622,  0.53444779],\n",
       "       [ 1.59268652, -0.47133188],\n",
       "       [ 0.65751038,  0.83427854],\n",
       "       [ 0.68014343,  0.87228239],\n",
       "       [ 1.25879895, -0.7083273 ],\n",
       "       [-0.16734487,  0.86327499],\n",
       "       [ 0.27258567,  0.69832949],\n",
       "       [-0.72554907,  0.72811738],\n",
       "       [-0.91738614,  0.38843932],\n",
       "       [ 1.94492818,  0.06443745],\n",
       "       [ 0.25348082, -0.2784919 ],\n",
       "       [-0.18100643,  0.68449514],\n",
       "       [ 1.51763223, -0.39702457],\n",
       "       [ 1.1923985 , -0.32304635],\n",
       "       [ 2.03070901,  0.18019273],\n",
       "       [ 1.2535532 ,  0.2865721 ],\n",
       "       [-0.17382633,  0.8513054 ],\n",
       "       [-0.07067785,  0.14032777],\n",
       "       [-1.14056472,  0.26441759],\n",
       "       [ 1.41612058, -0.30851196],\n",
       "       [ 0.03676887,  0.06706723],\n",
       "       [-0.74563266,  0.94474581],\n",
       "       [ 0.1040069 ,  0.39431152],\n",
       "       [ 1.41281341, -0.32941162],\n",
       "       [-0.08063155,  0.07257893],\n",
       "       [ 1.49759213, -0.26001587],\n",
       "       [ 0.19118704,  0.36177053],\n",
       "       [ 0.11655798,  0.88372351],\n",
       "       [ 0.44340799,  0.92418782],\n",
       "       [-1.12388543,  0.5166111 ],\n",
       "       [ 0.49371156,  1.10982838],\n",
       "       [-0.14839721,  0.17647506],\n",
       "       [ 1.89973826,  0.40642824],\n",
       "       [ 0.5942833 ,  0.84072243],\n",
       "       [-0.93165398,  0.34625251],\n",
       "       [ 1.54695725, -0.21795349],\n",
       "       [-1.14413228, -0.1234544 ],\n",
       "       [-0.89292767,  0.48369293],\n",
       "       [ 0.13906626,  0.81499277],\n",
       "       [ 0.14079458,  0.87098051],\n",
       "       [ 1.9403736 ,  0.48627573],\n",
       "       [ 0.10779574,  0.97567994],\n",
       "       [ 1.53903167,  0.29073391],\n",
       "       [ 0.81670939,  0.3012657 ],\n",
       "       [ 1.39236392, -0.14372257],\n",
       "       [-0.40480522,  0.69130688],\n",
       "       [-0.61888702,  0.69475816],\n",
       "       [ 0.60157139,  0.80534425],\n",
       "       [ 1.40890809, -0.28525687],\n",
       "       [-0.08398982,  0.94622653],\n",
       "       [ 0.27094931,  0.00409167],\n",
       "       [ 0.28757941, -0.02091681],\n",
       "       [ 0.87787422,  0.3467922 ],\n",
       "       [-0.44254042,  1.12701284],\n",
       "       [-0.19851692,  1.137817  ],\n",
       "       [ 1.85787985, -0.00415165],\n",
       "       [-1.13741105,  0.4002091 ],\n",
       "       [ 0.06758454,  0.89071302],\n",
       "       [ 2.06079895,  0.22223222],\n",
       "       [-0.37401944,  0.95020166],\n",
       "       [-0.93389337,  0.42477905],\n",
       "       [ 1.1520899 , -0.11018868],\n",
       "       [ 0.05432119, -0.15399516],\n",
       "       [ 0.68283146,  0.68014161],\n",
       "       [ 0.56701195, -0.48305235],\n",
       "       [ 0.2215629 ,  1.08643494],\n",
       "       [ 0.91222608, -0.26429805],\n",
       "       [ 0.48866392, -0.09015172],\n",
       "       [-0.73778149,  0.81383383],\n",
       "       [ 0.85998234,  0.52267668],\n",
       "       [ 1.38726201, -0.52898029],\n",
       "       [-0.24964959,  0.36376468],\n",
       "       [-0.97196803,  0.25149782],\n",
       "       [ 0.50635082, -0.50507653],\n",
       "       [ 0.75246661, -0.46834596],\n",
       "       [ 0.86734545, -0.33204651],\n",
       "       [ 1.96246386,  0.36002155],\n",
       "       [ 0.99736482,  0.22725623],\n",
       "       [-0.71156865,  0.28005984],\n",
       "       [-0.03692366,  0.8865141 ],\n",
       "       [-0.10821255,  1.01867723],\n",
       "       [ 1.90279111, -0.15908818],\n",
       "       [ 2.11120757,  0.06216317],\n",
       "       [-0.54637577,  0.90128061],\n",
       "       [ 1.15702384,  0.26820912],\n",
       "       [ 0.07768897,  0.15514725],\n",
       "       [ 0.81753961,  0.78279786],\n",
       "       [ 0.37875349, -0.43222834],\n",
       "       [ 0.83389121, -0.74420819],\n",
       "       [ 0.15606453, -0.13048231],\n",
       "       [-1.12942925,  0.05786822],\n",
       "       [ 1.3623325 , -0.54563771],\n",
       "       [ 0.03609752,  0.3796311 ],\n",
       "       [ 0.22549191, -0.25702294],\n",
       "       [-1.04525364,  0.45429318],\n",
       "       [ 1.95928239,  0.28082496],\n",
       "       [-0.04246127, -0.2115755 ],\n",
       "       [ 1.04510412,  0.22516765],\n",
       "       [-0.54582937,  0.73360069],\n",
       "       [ 1.94919267,  0.3012621 ],\n",
       "       [ 0.14985242,  0.72383165],\n",
       "       [-1.23831954,  0.40091536],\n",
       "       [ 0.73991149,  0.76623448],\n",
       "       [-0.77179415,  0.12571263],\n",
       "       [-0.86579085,  0.89836131],\n",
       "       [-0.20444943,  1.30089991],\n",
       "       [ 0.34026358, -0.24892684],\n",
       "       [ 1.9035963 ,  0.07493499],\n",
       "       [ 1.90580597, -0.11990408],\n",
       "       [ 0.76556352, -0.42473047],\n",
       "       [ 1.10007594,  0.51847935],\n",
       "       [-0.52525342,  1.02379237],\n",
       "       [ 1.75174203, -0.42851515],\n",
       "       [-0.15072609,  0.90104317],\n",
       "       [ 0.13218973, -0.2876972 ],\n",
       "       [ 0.90036182,  0.4603865 ],\n",
       "       [ 0.61695632, -0.46606385],\n",
       "       [ 1.94598751,  0.33187693],\n",
       "       [ 0.92943663, -0.3500217 ],\n",
       "       [ 2.02673098, -0.2213151 ],\n",
       "       [ 1.68941596, -0.53196459],\n",
       "       [-0.93726088,  0.16658761],\n",
       "       [ 0.36075309,  0.90642708],\n",
       "       [-0.16319378,  0.81023937],\n",
       "       [ 1.18655281,  0.29974519],\n",
       "       [-0.04614627,  0.98206521],\n",
       "       [-0.68296012,  0.27660024],\n",
       "       [ 0.5577696 , -0.07512616],\n",
       "       [ 0.37743666, -0.37927448],\n",
       "       [-1.03717108,  0.4698665 ],\n",
       "       [ 0.25910381, -0.37683735],\n",
       "       [ 1.33099544, -0.08958262],\n",
       "       [ 0.42745323, -0.2592516 ],\n",
       "       [-0.14768579,  0.11864419],\n",
       "       [-0.19055785,  1.08145745],\n",
       "       [-0.81611186,  0.07143434],\n",
       "       [ 0.21457466, -0.15251385],\n",
       "       [ 0.48150593, -0.15730854],\n",
       "       [ 0.75294014,  0.87018135],\n",
       "       [ 0.00268841,  0.74542302],\n",
       "       [ 0.76261204,  0.74227715],\n",
       "       [ 0.00953621,  0.01612411],\n",
       "       [ 1.8274081 ,  0.43236785],\n",
       "       [ 1.2627312 , -0.30519725],\n",
       "       [ 0.9913668 , -0.57173849],\n",
       "       [ 1.75988233, -0.14196236],\n",
       "       [ 1.71852807, -0.11229783],\n",
       "       [ 1.37563541, -0.49739685],\n",
       "       [ 1.12833713, -0.55457849],\n",
       "       [-0.45894566,  0.84920186],\n",
       "       [ 2.04030729, -0.01202368],\n",
       "       [ 0.95496306,  0.60996935],\n",
       "       [-0.21802967,  0.88314775],\n",
       "       [ 1.76578351,  0.02766876],\n",
       "       [ 1.63945225, -0.34502642],\n",
       "       [ 0.54083505,  0.75617978],\n",
       "       [ 1.72900376, -0.52798638],\n",
       "       [ 0.11189583, -0.14314968],\n",
       "       [ 1.11450668, -0.47119635],\n",
       "       [-0.34070407,  0.86078568],\n",
       "       [ 1.06103253, -0.15427218],\n",
       "       [ 0.7335592 ,  0.42890648],\n",
       "       [ 0.97692051,  0.3751957 ],\n",
       "       [ 1.37737923, -0.50309603],\n",
       "       [-0.1585357 ,  0.98435814],\n",
       "       [ 1.99548032,  0.49726193],\n",
       "       [-0.10013275,  0.07883043],\n",
       "       [ 0.92601067, -0.37250984],\n",
       "       [-0.29754533,  0.90539136],\n",
       "       [-0.1731499 ,  0.97735678],\n",
       "       [ 0.41088645, -0.34351075],\n",
       "       [ 0.65195778, -0.3118897 ],\n",
       "       [ 0.76852789, -0.55977645],\n",
       "       [-0.72710688,  0.80520059],\n",
       "       [ 0.94343263,  0.32181357],\n",
       "       [ 0.14886357,  0.44591803],\n",
       "       [ 0.26191972,  1.06715618],\n",
       "       [ 1.06347823,  0.71056897],\n",
       "       [ 0.52177542, -0.12140336],\n",
       "       [ 0.48711519,  0.83613239],\n",
       "       [ 0.05917227,  0.0620179 ],\n",
       "       [ 1.04650744, -0.47621064],\n",
       "       [ 1.18352869, -0.07084158],\n",
       "       [-0.85649109,  0.04126196],\n",
       "       [ 1.83614196, -0.08967375],\n",
       "       [ 0.99693564,  0.56646007],\n",
       "       [ 0.21047277,  0.02918357],\n",
       "       [ 0.9099482 , -0.51846543],\n",
       "       [ 1.11010284,  0.39345481],\n",
       "       [-0.95365178,  0.44484598],\n",
       "       [ 1.26815874, -0.35650453],\n",
       "       [ 0.74460741, -0.50857105]])"
      ]
     },
     "execution_count": 181,
     "metadata": {},
     "output_type": "execute_result"
    }
   ],
   "source": [
    "x"
   ]
  },
  {
   "cell_type": "code",
   "execution_count": 182,
   "metadata": {},
   "outputs": [
    {
     "data": {
      "text/plain": [
       "array([0, 0, 1, 0, 0, 1, 1, 0, 0, 1, 0, 0, 1, 0, 0, 0, 0, 1, 1, 0, 1, 1,\n",
       "       1, 0, 0, 1, 0, 1, 1, 0, 1, 1, 1, 1, 1, 0, 0, 0, 0, 1, 1, 0, 0, 1,\n",
       "       0, 0, 0, 0, 1, 0, 1, 0, 1, 0, 0, 0, 1, 0, 1, 1, 0, 0, 0, 1, 0, 0,\n",
       "       1, 0, 0, 1, 1, 0, 1, 0, 1, 1, 0, 0, 1, 1, 0, 1, 1, 1, 1, 0, 0, 0,\n",
       "       0, 1, 1, 0, 0, 1, 0, 1, 1, 1, 0, 1, 1, 1, 0, 1, 1, 0, 0, 1, 0, 0,\n",
       "       0, 0, 0, 0, 1, 1, 1, 1, 0, 0, 1, 0, 1, 0, 1, 1, 1, 1, 1, 0, 0, 0,\n",
       "       0, 0, 0, 1, 1, 0, 1, 0, 1, 1, 0, 0, 1, 1, 0, 0, 0, 1, 1, 1, 1, 1,\n",
       "       1, 1, 1, 0, 1, 0, 0, 1, 1, 0, 1, 1, 1, 0, 0, 0, 0, 1, 0, 1, 1, 1,\n",
       "       0, 0, 1, 1, 1, 0, 0, 1, 0, 0, 1, 0, 1, 1, 0, 0, 1, 0, 1, 1, 0, 0,\n",
       "       1, 1], dtype=int64)"
      ]
     },
     "execution_count": 182,
     "metadata": {},
     "output_type": "execute_result"
    }
   ],
   "source": [
    "#Actual Output\n",
    "#Since there are two output neurons, this matrice consists of the correct neuron index for all 200 samples\n",
    "y"
   ]
  },
  {
   "cell_type": "code",
   "execution_count": 183,
   "metadata": {},
   "outputs": [
    {
     "data": {
      "text/plain": [
       "<matplotlib.collections.PathCollection at 0x294b74a3a10>"
      ]
     },
     "execution_count": 183,
     "metadata": {},
     "output_type": "execute_result"
    },
    {
     "data": {
      "image/png": "[encoded data removed]",
      "text/plain": [
       "<Figure size 640x480 with 1 Axes>"
      ]
     },
     "metadata": {},
     "output_type": "display_data"
    }
   ],
   "source": [
    "# Syntax: plt.scatter(inputs(first feature), inputs(second feature), color)\n",
    "plt.scatter(x[:, 0], x[:, 1], c=y)"
   ]
  },
  {
   "cell_type": "code",
   "execution_count": 184,
   "metadata": {},
   "outputs": [
    {
     "name": "stdout",
     "output_type": "stream",
     "text": [
      "(200, 2)\n",
      "(200,)\n"
     ]
    }
   ],
   "source": [
    "print(x.shape) #200 samples with 2 features\n",
    "print(y.shape) #200 samples with 1 output"
   ]
  },
  {
   "cell_type": "markdown",
   "metadata": {},
   "source": [
    "<div style=\"text-align:center;\"><img src=\"./Images/scratch_nn.png\"></div>\n",
    "\n",
    "# Input Layer matrix\n",
    "200 samples with 2 features each like given below\n",
    "\n",
    "<pre>\n",
    "            Feature 1       Feature 2\n",
    "Sample 1    0.6             0.5         \n",
    "Sample 2    0.9             0.4\n",
    ".\n",
    ".\n",
    ".\n",
    "Sample 200  0.1             0.01\n",
    "</pre>\n",
    "\n",
    "\n",
    "# Input to Hidden layer weights\n",
    "\n",
    "<pre>\n",
    "            Output1         Output2         Output3\n",
    "Input1      <span style=\"color:red;\">w1              w2              w3</span>\n",
    "Input2      <span style=\"color:green;\">w4              w5              w6</span>\n",
    "\n",
    "</pre>\n",
    "\n",
    "Dot Product => 200x2 (input matrix) * 2x3 (weight matrix) = 200x3 (input to next layer)\n",
    "\n",
    "Dot Product => 200x3 (hidden layer) * 3x2 (weight matrix) = 200x2 (output layer)"
   ]
  },
  {
   "cell_type": "code",
   "execution_count": 185,
   "metadata": {},
   "outputs": [],
   "source": [
    "# Declaring Hyperparameters\n",
    "input_neurons = 2\n",
    "output_neurons = 2\n",
    "samples = x.shape[0]\n",
    "learning_rate = 0.001\n",
    "lambda_param = 0.01"
   ]
  },
  {
   "cell_type": "code",
   "execution_count": 186,
   "metadata": {},
   "outputs": [],
   "source": [
    "# Model is stored in form of a dictionary\n",
    "w1 = []\n",
    "w2 = []\n",
    "b1 =[]\n",
    "b2 = []\n",
    "model_dict = {'w1': w1, 'b1': b1, 'w2': w2, 'b2': b2}"
   ]
  },
  {
   "cell_type": "code",
   "execution_count": 187,
   "metadata": {},
   "outputs": [],
   "source": [
    "# Function to retrieve the model weights and biases\n",
    "def retreive(model_dict):\n",
    "    w1 = model_dict['w1']\n",
    "    b1 = model_dict['b1']\n",
    "    w2 = model_dict['w2']\n",
    "    b2 = model_dict['b2']\n",
    "    return w1, b1, w2, b2"
   ]
  },
  {
   "cell_type": "code",
   "execution_count": 188,
   "metadata": {},
   "outputs": [],
   "source": [
    "#Fuction for forward propagation, parameters(input, model)\n",
    "def forward(x, model_dict):\n",
    "    w1, b1, w2, b2 = retreive(model_dict)\n",
    "    z1 = x.dot(w1) + b1 #Hidden Layer\n",
    "    a1 = np.tanh(z1) #Activation Function\n",
    "\n",
    "    z2 = a1.dot(w2) + b2 #Output Layer\n",
    "\n",
    "    #Softmax Function\n",
    "    exp_scores = np.exp(z2)\n",
    "    softmax = exp_scores/np.sum(exp_scores, axis = 1, keepdims=True)\n",
    "\n",
    "    return z1, a1, softmax"
   ]
  },
  {
   "cell_type": "code",
   "execution_count": 189,
   "metadata": {},
   "outputs": [],
   "source": [
    "#Function for calculating loss (loss function => Cross Entropy Loss), paramters(predicted_out, actual_out)\n",
    "def loss(softmax, y, model_dict):\n",
    "    w1, b1, w2, b2 = retreive(model_dict)\n",
    "\n",
    "    m = np.zeros(200)\n",
    "    for i, correct_index in enumerate(y):\n",
    "        predicted = softmax[i][correct_index]\n",
    "        m[i] = predicted\n",
    "\n",
    "    log_prob = -np.log(m)\n",
    "    softmax_loss = np.sum(log_prob)\n",
    "    reg_loss = lambda_param/2 * (np.sum(np.square(w1)) + np.sum(np.square(w2))) #Regularization\n",
    "    loss = softmax_loss + reg_loss\n",
    "\n",
    "    return float(loss/y.shape[0])"
   ]
  },
  {
   "cell_type": "code",
   "execution_count": 190,
   "metadata": {},
   "outputs": [],
   "source": [
    "#Function for predicting outputs\n",
    "def predict(x, model_dict):\n",
    "    w1, b1, w2, b2 = retreive(model_dict)\n",
    "    z1 = x.dot(w1) + b1 #Hidden Layer\n",
    "    a1 = np.tanh(z1) #Activation Function\n",
    "\n",
    "    z2 = a1.dot(w2) + b2 #Output Layer\n",
    "\n",
    "    #Softmax Function\n",
    "    exp_scores = np.exp(z2)\n",
    "    softmax = exp_scores/np.sum(exp_scores, dim = 1, keepdims=True)\n",
    "\n",
    "    return np.argmax(softmax, axis=1) #This return the index of the max prediction in the sameples"
   ]
  },
  {
   "cell_type": "markdown",
   "metadata": {},
   "source": [
    "# Equation for BackPropagation\n",
    "\n",
    "![backprop](https://user-images.githubusercontent.com/30661597/67566804-3e405980-f75b-11e9-9e19-f3c388745c0a.png)\n",
    "\n",
    "<pre>A1, A2 and A3 are the output of the hidden layers</pre>\n"
   ]
  },
  {
   "cell_type": "markdown",
   "metadata": {},
   "source": [
    "## $\\frac{\\partial L}{\\partial y_{1}}=-\\tilde{y}_{1}\\left[\\frac{\\left(y_{1}\\right)^{\\prime}}{y_{1}}\\right]=-\\tilde{y}_{1}\\left[\\frac{1}{y_{1}}\\right]$\n",
    "\n",
    "## $\\frac{\\partial y_{1}}{\\partial z_{1}}=\\frac{\\partial}{\\partial z_{1}} \\cdot \\frac{e^{z_{1}}}{e^{z_{1}}+e^{z_{2}}+e^{z_{3}}}$\n",
    "\n",
    "<pre>Derivative of y1</pre>\n",
    "![der](https://user-images.githubusercontent.com/46392773/56460220-ec94cc00-63d1-11e9-91d1-b4e3c57c81fd.png)\n",
    "\n",
    "## $\\frac{\\partial L}{\\partial y_{1}} \\frac{\\partial y_{1}}{\\partial z_{1}}=-\\tilde{y}_{1}\\left[\\frac{1}{y_{1}}\\right]\\frac{\\partial y_{1}}{\\partial z_{1}}=-\\tilde{y}_{1}\\left[\\frac{y_{1}\\left(1-y_{1}\\right)}{y_{1}}\\right]=-\\tilde{y}_{1}\\left(1-y_{1}\\right)$\n",
    "\n",
    "\n",
    "Recall that our labels are in the form of a one-hot vector: (ex. If class 1 is correct, then the corresponding label is [1,0], if class 2 is correct, then the corresponding label is [0,1]).\n",
    "\n",
    "If class one is the actual prediction: $\\tilde{y}_{1} = 1 $, then we have:\n",
    "\n",
    "\n",
    "## $\\frac{\\partial L}{\\partial y_{1}} \\frac{\\partial y_{1}}{\\partial z_{1}} = -1(1-y_{1}) = y_{1} - 1 = \\delta_{3}$\n",
    "\n"
   ]
  },
  {
   "cell_type": "markdown",
   "metadata": {},
   "source": [
    "## $\\delta_{2}=\\left(1-\\tanh ^{2} z_{1}\\right) \\circ \\delta_{3} W_{2}^{T}$"
   ]
  },
  {
   "cell_type": "markdown",
   "metadata": {},
   "source": [
    "## $\\frac{\\partial L}{\\partial W_{2}}=a_{1}^{T} \\delta_{3}$"
   ]
  },
  {
   "cell_type": "markdown",
   "metadata": {},
   "source": [
    "## $\\frac{\\partial L}{\\partial b_{2}}=\\delta_{3}$"
   ]
  },
  {
   "cell_type": "markdown",
   "metadata": {},
   "source": [
    "## $\\frac{\\partial L}{\\partial W_{1}}=x^{T} \\delta 2$"
   ]
  },
  {
   "cell_type": "markdown",
   "metadata": {},
   "source": [
    "## $\\frac{\\partial L}{\\partial b_{1}}=\\delta 2$"
   ]
  },
  {
   "cell_type": "code",
   "execution_count": 191,
   "metadata": {},
   "outputs": [],
   "source": [
    "#Function for backpropagation, parameters(input, actual_labels, model, epochs)\n",
    "def backpropagation(x, y, model_dict, epochs):\n",
    "    for i in range(epochs):\n",
    "        w1, b1, w2, b2 = retreive(model_dict)\n",
    "        z1, a1, probs = forward(x, model_dict)\n",
    "        \n",
    "        delta3 = np.copy(probs)\n",
    "        delta3[range(x.shape[0]), y] -= 1 #Extracts out predicted values of the expected class (delta3 = probs - 1)\n",
    "        dw2 = (a1.T).dot(delta3) #a1: (200x3)shape dot (200x2) = (3x2)\n",
    "        db2 = np.sum(delta3, axis=0, keepdims=True) #(1x2)\n",
    "\n",
    "        delta2 = delta3.dot(w2.T) * (1 - np.power(np.tanh(z1), 2))\n",
    "        dw1 = np.dot(x.T, delta2)\n",
    "        db1 = np.sum(delta2, axis=0)\n",
    "\n",
    "        #Add reqularization\n",
    "        dw2 += lambda_param * np.sum(w2)\n",
    "        dw1 += lambda_param * np.sum(w1)\n",
    "\n",
    "        #Update weights\n",
    "        w1 += -learning_rate * dw1  #W = W + (-learning_rate * gradient)\n",
    "        b1 += -learning_rate * db1\n",
    "        w2 += -learning_rate * dw2\n",
    "        b2 += -learning_rate * db2\n",
    "\n",
    "        #Update dictionary\n",
    "        model_dict = {'w1': w1, \"b1\": b1, \"w2\": w2, \"b2\": b2}\n",
    "\n",
    "        #Print loss every 50 epochs\n",
    "        if i%50 == 0:\n",
    "            print(\"Loss at epoch {} is : {:3f}\".format(i, loss(probs, y, model_dict)))\n",
    "\n",
    "    return model_dict"
   ]
  },
  {
   "cell_type": "code",
   "execution_count": 192,
   "metadata": {},
   "outputs": [],
   "source": [
    "# Define Initial Weights\n",
    "def init_network(input_dim, hidden_dim, output_dim):\n",
    "    model = {}\n",
    "    # Xavier Initialization \n",
    "    W1 = np.random.randn(input_dim, hidden_dim) / np.sqrt(input_dim)\n",
    "    b1 = np.zeros((1, hidden_dim))\n",
    "    W2 = np.random.randn(hidden_dim, output_dim) / np.sqrt(hidden_dim)\n",
    "    b2 = np.zeros((1, output_dim))\n",
    "    model['w1'] = W1\n",
    "    model['b1'] = b1\n",
    "    model['w2'] = W2\n",
    "    model['b2'] = b2\n",
    "    return model"
   ]
  },
  {
   "cell_type": "code",
   "execution_count": 193,
   "metadata": {},
   "outputs": [
    {
     "name": "stdout",
     "output_type": "stream",
     "text": [
      "Loss at epoch 0 is : 0.003481\n",
      "Loss at epoch 50 is : 0.001171\n",
      "Loss at epoch 100 is : 0.001025\n",
      "Loss at epoch 150 is : 0.001211\n",
      "Loss at epoch 200 is : 0.001486\n",
      "Loss at epoch 250 is : 0.001836\n",
      "Loss at epoch 300 is : 0.002266\n",
      "Loss at epoch 350 is : 0.002775\n",
      "Loss at epoch 400 is : 0.003358\n",
      "Loss at epoch 450 is : 0.004020\n",
      "Loss at epoch 500 is : 0.004778\n",
      "Loss at epoch 550 is : 0.005664\n",
      "Loss at epoch 600 is : 0.006699\n",
      "Loss at epoch 650 is : 0.007880\n",
      "Loss at epoch 700 is : 0.009201\n",
      "Loss at epoch 750 is : 0.010650\n",
      "Loss at epoch 800 is : 0.012214\n",
      "Loss at epoch 850 is : 0.013894\n",
      "Loss at epoch 900 is : 0.015691\n",
      "Loss at epoch 950 is : 0.017605\n"
     ]
    }
   ],
   "source": [
    "model_dict = init_network(input_dim = input_neurons , hidden_dim = 3, output_dim = output_neurons)\n",
    "model = backpropagation(x, y, model_dict, 1000)"
   ]
  }
 ],
 "metadata": {
  "kernelspec": {
   "display_name": "Python 3 (ipykernel)",
   "language": "python",
   "name": "python3"
  },
  "language_info": {
   "codemirror_mode": {
    "name": "ipython",
    "version": 3
   },
   "file_extension": ".py",
   "mimetype": "text/x-python",
   "name": "python",
   "nbconvert_exporter": "python",
   "pygments_lexer": "ipython3",
   "version": "3.11.5"
  }
 },
 "nbformat": 4,
 "nbformat_minor": 2
}
